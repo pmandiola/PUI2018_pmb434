{
 "cells": [
  {
   "cell_type": "code",
   "execution_count": 14,
   "metadata": {},
   "outputs": [],
   "source": [
    "import numpy as np\n",
    "try:\n",
    "    import urllib2 as urllib\n",
    "except ImportError:\n",
    "    import urllib.request as urllib"
   ]
  },
  {
   "cell_type": "markdown",
   "metadata": {},
   "source": [
    "### Hypothesis to test"
   ]
  },
  {
   "cell_type": "markdown",
   "metadata": {},
   "source": [
    "In words,\n",
    "\n",
    "$H_0$: The commuting time is on average the same or longer with the new bus route than it was before, with significance level 0.05\n",
    "\n",
    "$H_a$: The commuting time is shorter with the new bus route than it was before\n",
    "\n",
    "In formula,\n",
    "\n",
    "$H_0$: $T_n >= T_0$\n",
    "\n",
    "$H_a$: $T_n < T_0$"
   ]
  },
  {
   "cell_type": "markdown",
   "metadata": {},
   "source": [
    "### Download the data"
   ]
  },
  {
   "cell_type": "code",
   "execution_count": 19,
   "metadata": {},
   "outputs": [
    {
     "name": "stdout",
     "output_type": "stream",
     "text": [
      "[ 31.62223931  32.82137636  30.2291014   31.41376587  39.01055035\n",
      "  34.82207891  39.87188366  39.57994562  31.02658678  27.66246068\n",
      "  18.8752884   46.2313731   30.01522604  47.6004104   16.52726666\n",
      "  42.4462331   33.62527449  42.28462558  46.20520667  30.87517392\n",
      "  32.94800341  26.17691512  31.25699649  35.33644554  35.64072501\n",
      "  40.32297174  38.04348588  29.4579793   23.91636367  34.56403521\n",
      "  45.42782464  38.95607754  39.11396748  39.67398759  31.89148105\n",
      "  22.62379325  26.18910408  43.54114213  33.2607386   31.67602384\n",
      "  37.12846259  38.22048496  34.38814185  36.11407371  44.08064814\n",
      "  29.59917161  37.02411751  41.60576556  44.37860528  38.06471077\n",
      "  22.90526456  40.27182857  31.57979239  25.88037795  28.8913048\n",
      "  44.33687925  36.78948684  43.46098875  40.65557     26.16634004\n",
      "  25.13884784  33.01581456  32.87050073  26.28557154  39.44933037\n",
      "  36.25528612  40.719133    40.57181545  19.87166413  43.21925286\n",
      "  31.48102823  37.14915056  38.991504    20.53059384  27.80447692\n",
      "  38.69933298  30.0223142   38.64884169  26.40668884  32.10224978\n",
      "  28.31532754  43.26195884  40.3609407   37.3025258   31.45110181\n",
      "  38.79599524  36.92553372  32.37167945  23.25835631  26.42613261\n",
      "  48.74987653  31.42512354  46.80679298  30.59748648  20.7926322\n",
      "  26.19785226  42.7274097   33.7314695   37.23859057  36.33984141]\n"
     ]
    }
   ],
   "source": [
    "url = 'https://raw.githubusercontent.com/fedhere/PUI2018_fb55/master/Lab4_fb55/times.txt';\n",
    "response = urllib.urlopen(url)\n",
    "times = np.loadtxt(response.readlines())\n",
    "print(times)"
   ]
  },
  {
   "cell_type": "markdown",
   "metadata": {},
   "source": [
    "### Calculate the Z statistics"
   ]
  },
  {
   "cell_type": "code",
   "execution_count": 23,
   "metadata": {},
   "outputs": [
    {
     "name": "stdout",
     "output_type": "stream",
     "text": [
      "Z statistic is: 2.55639718616667\n"
     ]
    }
   ],
   "source": [
    "mean_population = 36\n",
    "std_population = 6\n",
    "mean_sample = times.mean()\n",
    "N = len(times)\n",
    "Z = (mean_population - mean_sample)/(std_population/np.sqrt(N))\n",
    "print('Z statistic is: {}'.format(Z))"
   ]
  },
  {
   "cell_type": "markdown",
   "metadata": {},
   "source": [
    "### Comparison and conclusion"
   ]
  },
  {
   "cell_type": "markdown",
   "metadata": {},
   "source": [
    "Because $2.5 > 2$, we can reject the null hypothesis with a significance level of 0.05. Our Z statistics is more than 2 sigmas from the mean."
   ]
  }
 ],
 "metadata": {
  "kernelspec": {
   "display_name": "PUI2016_Python3",
   "language": "python",
   "name": "pui2016_python3"
  },
  "language_info": {
   "codemirror_mode": {
    "name": "ipython",
    "version": 3
   },
   "file_extension": ".py",
   "mimetype": "text/x-python",
   "name": "python",
   "nbconvert_exporter": "python",
   "pygments_lexer": "ipython3",
   "version": "3.5.4"
  }
 },
 "nbformat": 4,
 "nbformat_minor": 2
}
