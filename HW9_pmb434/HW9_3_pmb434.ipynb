{
 "cells": [
  {
   "cell_type": "markdown",
   "metadata": {
    "run_control": {
     "frozen": false,
     "read_only": false
    },
    "toc": "true"
   },
   "source": [
    "# Table of Contents\n",
    " <p><div class=\"lev1 toc-item\"><a href=\"#DATA:\" data-toc-modified-id=\"DATA:-1\"><span class=\"toc-item-num\">1&nbsp;&nbsp;</span>DATA:</a></div><div class=\"lev1 toc-item\"><a href=\"#exploration\" data-toc-modified-id=\"exploration-2\"><span class=\"toc-item-num\">2&nbsp;&nbsp;</span>exploration</a></div><div class=\"lev2 toc-item\"><a href=\"#plot-mass-shooting-vs-gdp-in-absolute-numbers,-and-per-person.-Show-the-errorbars-(y-errors)\" data-toc-modified-id=\"plot-mass-shooting-vs-gdp-in-absolute-numbers,-and-per-person.-Show-the-errorbars-(y-errors)-21\"><span class=\"toc-item-num\">2.1&nbsp;&nbsp;</span>plot mass shooting vs gdp in absolute numbers, and per person. Show the errorbars (y errors)</a></div><div class=\"lev2 toc-item\"><a href=\"#plot-the-average-number-of-civilian-fire-arms-per-person\" data-toc-modified-id=\"plot-the-average-number-of-civilian-fire-arms-per-person-22\"><span class=\"toc-item-num\">2.2&nbsp;&nbsp;</span>plot the average number of civilian fire arms per person</a></div><div class=\"lev2 toc-item\"><a href=\"#plot-the-average-number-of-homicide-by-fire-arms-per-person\" data-toc-modified-id=\"plot-the-average-number-of-homicide-by-fire-arms-per-person-23\"><span class=\"toc-item-num\">2.3&nbsp;&nbsp;</span>plot the average number of homicide by fire arms per person</a></div><div class=\"lev2 toc-item\"><a href=\"#plot-the-number-of--homicides-by-fire-arm-against-the-number-of-civilian-firearms.-plot-the--US-in-a-different-color\" data-toc-modified-id=\"plot-the-number-of--homicides-by-fire-arm-against-the-number-of-civilian-firearms.-plot-the--US-in-a-different-color-24\"><span class=\"toc-item-num\">2.4&nbsp;&nbsp;</span>plot the number of  homicides by fire arm against the number of civilian firearms. plot the  US in a different color</a></div><div class=\"lev2 toc-item\"><a href=\"#plot-the-number-of--mass-shootings-against-the-number-of-civilian-firearms.-plot-the--US-in-a-different-color\" data-toc-modified-id=\"plot-the-number-of--mass-shootings-against-the-number-of-civilian-firearms.-plot-the--US-in-a-different-color-25\"><span class=\"toc-item-num\">2.5&nbsp;&nbsp;</span>plot the number of  mass shootings against the number of civilian firearms. plot the  US in a different color</a></div><div class=\"lev1 toc-item\"><a href=\"#Modeling\" data-toc-modified-id=\"Modeling-3\"><span class=\"toc-item-num\">3&nbsp;&nbsp;</span>Modeling</a></div><div class=\"lev2 toc-item\"><a href=\"#fit-a-line-to-the-Number-of-mass-shootings--per-person-as-a-function-of-Average-total-all-civilian-firearms-per-person.\" data-toc-modified-id=\"fit-a-line-to-the-Number-of-mass-shootings--per-person-as-a-function-of-Average-total-all-civilian-firearms-per-person.-31\"><span class=\"toc-item-num\">3.1&nbsp;&nbsp;</span>fit a line to the Number of mass shootings  per person as a function of Average total all civilian firearms per person.</a></div><div class=\"lev2 toc-item\"><a href=\"#Outlier-removal:\" data-toc-modified-id=\"Outlier-removal:-32\"><span class=\"toc-item-num\">3.2&nbsp;&nbsp;</span>Outlier removal:</a></div><div class=\"lev2 toc-item\"><a href=\"#Extra-credit:-calculate-the-confidence-interval-by-hand-and-also-plot-them\" data-toc-modified-id=\"Extra-credit:-calculate-the-confidence-interval-by-hand-and-also-plot-them-33\"><span class=\"toc-item-num\">3.3&nbsp;&nbsp;</span>Extra credit: calculate the confidence interval by hand and also plot them</a></div><div class=\"lev2 toc-item\"><a href=\"#Use-the-stsatsmodels.gaphics-package-to-plot-the-influence-plot.\" data-toc-modified-id=\"Use-the-stsatsmodels.gaphics-package-to-plot-the-influence-plot.-34\"><span class=\"toc-item-num\">3.4&nbsp;&nbsp;</span>Use the stsatsmodels.gaphics package to plot the influence plot.</a></div><div class=\"lev2 toc-item\"><a href=\"#Extra-credit:-calculate-from-scratch-the-stanrdardized-residuals-and-the-H-leverage-for-the-WLS-model-and-discuss-if-there-are-any-differences\" data-toc-modified-id=\"Extra-credit:-calculate-from-scratch-the-stanrdardized-residuals-and-the-H-leverage-for-the-WLS-model-and-discuss-if-there-are-any-differences-35\"><span class=\"toc-item-num\">3.5&nbsp;&nbsp;</span>Extra credit: calculate from scratch the stanrdardized residuals and the H leverage for the WLS model and discuss if there are any differences</a></div><div class=\"lev2 toc-item\"><a href=\"#Discuss-your-findings\" data-toc-modified-id=\"Discuss-your-findings-36\"><span class=\"toc-item-num\">3.6&nbsp;&nbsp;</span>Discuss your findings</a></div>"
   ]
  },
  {
   "cell_type": "markdown",
   "metadata": {
    "run_control": {
     "frozen": false,
     "read_only": false
    }
   },
   "source": [
    "**regression exercise**\n",
    "\n",
    "**written by Federica B Bianco CUSP 2017**\n",
    "\n",
    "**for PUI lecture on models and linear regression**"
   ]
  },
  {
   "cell_type": "markdown",
   "metadata": {
    "run_control": {
     "frozen": false,
     "read_only": false
    }
   },
   "source": [
    "**investigate linear relationships between fire arm possession, homicides by fire arms, and mass shootings for different countries, considering also the country GDP**"
   ]
  },
  {
   "cell_type": "code",
   "execution_count": 1,
   "metadata": {},
   "outputs": [
    {
     "name": "stderr",
     "output_type": "stream",
     "text": [
      "/usr/local/Anaconda3-5.0.0-Linux-x86_64/envs/PUI2016_Python3/lib/python3.5/site-packages/IPython/html.py:14: ShimWarning: The `IPython.html` package has been deprecated. You should import from `notebook` instead. `IPython.html.widgets` has moved to `ipywidgets`.\n",
      "  \"`IPython.html.widgets` has moved to `ipywidgets`.\", ShimWarning)\n"
     ]
    },
    {
     "name": "stdout",
     "output_type": "stream",
     "text": [
      "Populating the interactive namespace from numpy and matplotlib\n"
     ]
    }
   ],
   "source": [
    "from __future__ import print_function\n",
    "__author__= 'Pablo Mandiola'\n",
    "\n",
    "import os\n",
    "from subprocess import Popen, PIPE\n",
    "import requests\n",
    "from zipfile import ZipFile\n",
    "try:\n",
    "    import urllib2 as urlib\n",
    "except ImportError:\n",
    "    import urllib as urlib\n",
    "\n",
    "import pylab as pl\n",
    "import seaborn as sns\n",
    "sns.set(context='notebook', style='whitegrid', palette='deep', font='DejaVu Sans', font_scale=1.2, rc=None)\n",
    "%pylab inline\n",
    "\n",
    "import statsmodels.api as sm\n",
    "import statsmodels.formula.api as smf\n",
    "\n",
    "#Data handling\n",
    "import numpy as np\n",
    "import pandas as pd"
   ]
  },
  {
   "cell_type": "code",
   "execution_count": 2,
   "metadata": {},
   "outputs": [
    {
     "name": "stdout",
     "output_type": "stream",
     "text": [
      "PUIDATA: /nfshome/pmb434/PUIdata\n"
     ]
    }
   ],
   "source": [
    "puidata = os.getenv(\"PUIDATA\")\n",
    "if puidata is None:\n",
    "    os.environ[\"PUIDATA\"] = \"{}/data/PUIdata\".format(os.getenv(\"HOME\"))\n",
    "    puidata = os.getenv(\"PUIDATA\")\n",
    "    print(\"Warning: PUIDATA environmental variable not found and set by code, please review!\")\n",
    "print(\"PUIDATA: {}\".format(puidata))"
   ]
  },
  {
   "cell_type": "code",
   "execution_count": 3,
   "metadata": {},
   "outputs": [
    {
     "name": "stdout",
     "output_type": "stream",
     "text": [
      "/nfshome/pmb434\n",
      "/nfshome/pmb434/PUI2018/HW9_pmb434\n"
     ]
    }
   ],
   "source": [
    "#Set the folder for APIKEY.py file\n",
    "%cd \"/nfshome/pmb434\"\n",
    "\n",
    "#Load API Keys\n",
    "from APIKEY import GoogleKey\n",
    "\n",
    "#Go back to previuos folder\n",
    "%cd -"
   ]
  },
  {
   "cell_type": "markdown",
   "metadata": {
    "run_control": {
     "frozen": false,
     "read_only": false
    }
   },
   "source": [
    "# DATA: \n",
    "\n",
    "The Guardian firearms murders and ownership data. The relevans sheet is uploaded in the github repository as a csv file. Download it from there. Note: this dataset is from 2012.\n",
    "\n",
    "**Extra credit**: download directly from google docs with a google API\n",
    "\n",
    "https://docs.google.com/spreadsheets/d/1chqUZHuY6cXYrRYkuE0uwXisGaYvr7durZHJhpLGycs/edit#gid=0\n",
    "\n",
    "Number of mass shootings: find the link here https://datawrapper.dwcdn.net/pvLFI/4/\n",
    "\n",
    "The world population by country find the download link here :\n",
    "https://data.worldbank.org/indicator/SP.POP.TOTL\n",
    "\n",
    "Remember that all read or downloads have to me reproducible.\n",
    "\n",
    "Merge all datasets. After throwing away the irrelevant data it should look something like this (I renamed the GDP and the population as gdp\" and \"pop\")\n",
    "\n",
    "Throughout, when I ask you to include errors in plots or models, use Poisson statistics: the error is the square root of the number you are considering (e.g. this country has N fire arms +/- square root of N, or this country has Np [= N/population +/- (square root of N) / population] fire arms per person)."
   ]
  },
  {
   "cell_type": "code",
   "execution_count": 4,
   "metadata": {},
   "outputs": [],
   "source": [
    "#Helper function to download files\n",
    "def download_file(url, filename, destiny=puidata, encoding='utf-8'):\n",
    "    \n",
    "    #Check if file exists, download if not\n",
    "    if not os.path.isfile(destiny + '/' + filename):\n",
    "        print (\"Downloading file.\")\n",
    "        #Download with redirect\n",
    "        urlib.request.urlretrieve(url, filename)\n",
    "        os.system(\"mv \" + filename + \" \" + destiny)\n",
    "    else:\n",
    "        print(\"File already downloaded.\")\n",
    "    \n",
    "    #Placeholder for files from container\n",
    "    files = None\n",
    "    \n",
    "    #Get extension   \n",
    "    file_ext = filename.split('.')[-1]\n",
    "    if file_ext == 'rar':\n",
    "        \n",
    "        #Get files from container\n",
    "        files = Popen(\"unrar lb \" + destiny + \"/\" + filename, shell=True, stdout=PIPE).stdout.read()\n",
    "        files = files.decode(encoding).split(sep='\\n')[:-1]\n",
    "        files = [destiny + \"/\" + f.strip() for f in files]\n",
    "        \n",
    "        #Extract if needed\n",
    "        missing = [f for f in files if not (os.path.isfile(f) or os.path.isdir(f))]\n",
    "        if missing:\n",
    "            print (\"Extracting .{} container.\".format(file_ext))\n",
    "            os.system(\"unrar x \" + destiny + \"/\" + filename + \" \" + destiny)\n",
    "        else:\n",
    "            print(\"File already extracted.\")\n",
    "            \n",
    "    elif file_ext == 'zip' or file_ext == 'gz':\n",
    "        \n",
    "        #Get files from container\n",
    "        files = Popen(\"unzip -Z1 \" + destiny + \"/\" + filename, shell=True, stdout=PIPE).stdout.read()\n",
    "        files = files.decode(encoding).split(sep='\\n')[:-1]\n",
    "        files = [destiny + \"/\" + f.strip() for f in files]\n",
    "        \n",
    "        #Extract if needed\n",
    "        missing = [f for f in files if not os.path.isfile(f)]\n",
    "        if missing:\n",
    "            print (\"Extracting .{} container.\".format(file_ext))\n",
    "            \n",
    "            ZipFile(destiny + \"/\" + filename).extractall(destiny)\n",
    "            #os.system(\"unzip \" + destiny + \"/\" + filename + \" -d \" + destiny)\n",
    "        else:\n",
    "            print(\"File already extracted.\")\n",
    "            \n",
    "    else:\n",
    "        print(\"Won't extract {} file\".format(file_ext))\n",
    "    \n",
    "    #Check again and return file path(s)\n",
    "    if files is None:\n",
    "        # Check:\n",
    "        if not os.path.isfile(destiny + \"/\" + filename):\n",
    "            print (\"WARNING! Something is wrong: the file is not there.\")\n",
    "        else:\n",
    "            print (\"Files in place, you can continue.\")\n",
    "        \n",
    "        return(destiny + \"/\" + filename)\n",
    "    else:\n",
    "        #Check:\n",
    "        missing = [f for f in files if not (os.path.isfile(f) or os.path.isdir(f))]\n",
    "        if missing:\n",
    "            print (\"WARNING! Something is wrong: some files are not there.\")\n",
    "            print (missing)\n",
    "        else:\n",
    "            print (\"Files in place, you can continue.\")\n",
    "            \n",
    "        return (files)"
   ]
  },
  {
   "cell_type": "code",
   "execution_count": 5,
   "metadata": {},
   "outputs": [
    {
     "name": "stdout",
     "output_type": "stream",
     "text": [
      "File already downloaded.\n",
      "Won't extract csv file\n",
      "Files in place, you can continue.\n"
     ]
    },
    {
     "data": {
      "text/html": [
       "<div>\n",
       "<table border=\"1\" class=\"dataframe\">\n",
       "  <thead>\n",
       "    <tr style=\"text-align: right;\">\n",
       "      <th></th>\n",
       "      <th>Country/Territory</th>\n",
       "      <th>ISO code</th>\n",
       "      <th>Source</th>\n",
       "      <th>% of homicides by firearm</th>\n",
       "      <th>Number of homicides by firearm</th>\n",
       "      <th>Homicide by firearm rate per 100,000 pop</th>\n",
       "      <th>Rank by rate of ownership</th>\n",
       "      <th>Average firearms per 100 people</th>\n",
       "      <th>Average total all civilian firearms</th>\n",
       "    </tr>\n",
       "  </thead>\n",
       "  <tbody>\n",
       "    <tr>\n",
       "      <th>0</th>\n",
       "      <td>Albania</td>\n",
       "      <td>AL</td>\n",
       "      <td>CTS</td>\n",
       "      <td>65.9</td>\n",
       "      <td>56.0</td>\n",
       "      <td>1.76</td>\n",
       "      <td>70.0</td>\n",
       "      <td>8.6</td>\n",
       "      <td>270000.0</td>\n",
       "    </tr>\n",
       "    <tr>\n",
       "      <th>1</th>\n",
       "      <td>Algeria</td>\n",
       "      <td>DZ</td>\n",
       "      <td>CTS</td>\n",
       "      <td>4.8</td>\n",
       "      <td>20.0</td>\n",
       "      <td>0.06</td>\n",
       "      <td>78.0</td>\n",
       "      <td>7.6</td>\n",
       "      <td>1900000.0</td>\n",
       "    </tr>\n",
       "    <tr>\n",
       "      <th>2</th>\n",
       "      <td>Angola</td>\n",
       "      <td>AO</td>\n",
       "      <td>NaN</td>\n",
       "      <td>NaN</td>\n",
       "      <td>NaN</td>\n",
       "      <td>NaN</td>\n",
       "      <td>34.0</td>\n",
       "      <td>17.3</td>\n",
       "      <td>2800000.0</td>\n",
       "    </tr>\n",
       "    <tr>\n",
       "      <th>3</th>\n",
       "      <td>Anguilla</td>\n",
       "      <td>AI</td>\n",
       "      <td>WHO-MDB</td>\n",
       "      <td>24.0</td>\n",
       "      <td>1.0</td>\n",
       "      <td>7.14</td>\n",
       "      <td>NaN</td>\n",
       "      <td>NaN</td>\n",
       "      <td>NaN</td>\n",
       "    </tr>\n",
       "    <tr>\n",
       "      <th>4</th>\n",
       "      <td>Argentina</td>\n",
       "      <td>AR</td>\n",
       "      <td>Ministry of Justice</td>\n",
       "      <td>52.0</td>\n",
       "      <td>1198.0</td>\n",
       "      <td>3.02</td>\n",
       "      <td>62.0</td>\n",
       "      <td>10.2</td>\n",
       "      <td>3950000.0</td>\n",
       "    </tr>\n",
       "  </tbody>\n",
       "</table>\n",
       "</div>"
      ],
      "text/plain": [
       "  Country/Territory ISO code               Source  % of homicides by firearm  \\\n",
       "0           Albania       AL                  CTS                       65.9   \n",
       "1           Algeria       DZ                  CTS                        4.8   \n",
       "2            Angola       AO                  NaN                        NaN   \n",
       "3          Anguilla       AI              WHO-MDB                       24.0   \n",
       "4         Argentina       AR  Ministry of Justice                       52.0   \n",
       "\n",
       "   Number of homicides by firearm  Homicide by firearm rate per 100,000 pop  \\\n",
       "0                            56.0                                      1.76   \n",
       "1                            20.0                                      0.06   \n",
       "2                             NaN                                       NaN   \n",
       "3                             1.0                                      7.14   \n",
       "4                          1198.0                                      3.02   \n",
       "\n",
       "   Rank by rate of ownership  Average firearms per 100 people  \\\n",
       "0                       70.0                              8.6   \n",
       "1                       78.0                              7.6   \n",
       "2                       34.0                             17.3   \n",
       "3                        NaN                              NaN   \n",
       "4                       62.0                             10.2   \n",
       "\n",
       "   Average total all civilian firearms  \n",
       "0                             270000.0  \n",
       "1                            1900000.0  \n",
       "2                            2800000.0  \n",
       "3                                  NaN  \n",
       "4                            3950000.0  "
      ]
     },
     "execution_count": 5,
     "metadata": {},
     "output_type": "execute_result"
    }
   ],
   "source": [
    "#World firearms from Google Drive, using Google API\n",
    "fileId = '1chqUZHuY6cXYrRYkuE0uwXisGaYvr7durZHJhpLGycs'\n",
    "url = 'https://www.googleapis.com/drive/v3/files/{}/export?mimeType=text/csv&key={}'.format(fileId, GoogleKey)\n",
    "filename = 'world_firearms.csv'\n",
    "\n",
    "world_firearms = pd.read_csv(download_file(url, filename))\n",
    "world_firearms.head()"
   ]
  },
  {
   "cell_type": "code",
   "execution_count": 6,
   "metadata": {},
   "outputs": [],
   "source": [
    "world_firearms = world_firearms.loc[:,['Country/Territory', 'Number of homicides by firearm', 'Average total all civilian firearms']].rename(\n",
    "    columns={'Country/Territory':'Country'})"
   ]
  },
  {
   "cell_type": "code",
   "execution_count": 7,
   "metadata": {},
   "outputs": [
    {
     "data": {
      "text/plain": [
       "Country                                 object\n",
       "Number of homicides by firearm         float64\n",
       "Average total all civilian firearms    float64\n",
       "dtype: object"
      ]
     },
     "execution_count": 7,
     "metadata": {},
     "output_type": "execute_result"
    }
   ],
   "source": [
    "world_firearms.dtypes"
   ]
  },
  {
   "cell_type": "code",
   "execution_count": 8,
   "metadata": {},
   "outputs": [
    {
     "name": "stdout",
     "output_type": "stream",
     "text": [
      "Downloading file.\n",
      "Won't extract csv file\n",
      "Files in place, you can continue.\n"
     ]
    },
    {
     "data": {
      "text/html": [
       "<div>\n",
       "<table border=\"1\" class=\"dataframe\">\n",
       "  <thead>\n",
       "    <tr style=\"text-align: right;\">\n",
       "      <th></th>\n",
       "      <th>Country</th>\n",
       "      <th>Guns per 100 inhabitants</th>\n",
       "      <th>Number of mass shootings (1983-2013)</th>\n",
       "    </tr>\n",
       "  </thead>\n",
       "  <tbody>\n",
       "    <tr>\n",
       "      <th>0</th>\n",
       "      <td>Australia</td>\n",
       "      <td>15.0</td>\n",
       "      <td>4</td>\n",
       "    </tr>\n",
       "    <tr>\n",
       "      <th>1</th>\n",
       "      <td>Austria</td>\n",
       "      <td>30.4</td>\n",
       "      <td>1</td>\n",
       "    </tr>\n",
       "    <tr>\n",
       "      <th>2</th>\n",
       "      <td>Belgium</td>\n",
       "      <td>17.2</td>\n",
       "      <td>2</td>\n",
       "    </tr>\n",
       "    <tr>\n",
       "      <th>3</th>\n",
       "      <td>Canada</td>\n",
       "      <td>30.8</td>\n",
       "      <td>4</td>\n",
       "    </tr>\n",
       "    <tr>\n",
       "      <th>4</th>\n",
       "      <td>Denmark</td>\n",
       "      <td>12.0</td>\n",
       "      <td>0</td>\n",
       "    </tr>\n",
       "  </tbody>\n",
       "</table>\n",
       "</div>"
      ],
      "text/plain": [
       "     Country  Guns per 100 inhabitants  Number of mass shootings (1983-2013)\n",
       "0  Australia                      15.0                                     4\n",
       "1    Austria                      30.4                                     1\n",
       "2    Belgium                      17.2                                     2\n",
       "3     Canada                      30.8                                     4\n",
       "4    Denmark                      12.0                                     0"
      ]
     },
     "execution_count": 8,
     "metadata": {},
     "output_type": "execute_result"
    }
   ],
   "source": [
    "#Mass shootings\n",
    "url = 'data:application/octet-stream;charset=utf-8,Country%2CGuns%20per%20100%20inhabitants%2CNumber%20of%20mass%20shootings%20(1983-2013)%0AAustralia%2C15%2C4%0AAustria%2C30.4%2C1%0ABelgium%2C17.2%2C2%0ACanada%2C30.8%2C4%0ADenmark%2C12%2C0%0AFinland%2C45.3%2C2%0AFrance%2C31.2%2C6%0AGermany%2C30.3%2C7%0AGreece%2C22.5%2C0%0AHolland%2C3.9%2C2%0AHungary%2C5.5%2C0%0AIceland%2C30.3%2C0%0AIreland%2C8.6%2C0%0AItaly%2C11.9%2C0%0AJapan%2C0.6%2C0%0ALuxembourg%2C15.3%2C0%0ANew%20Zealand%2C22.6%2C3%0ANorway%2C31.3%2C1%0APoland%2C1.3%2C0%0APortugal%2C8.5%2C1%0ASpain%2C10.4%2C1%0ASweden%2C31.6%2C2%0ASwitzerland%2C45.7%2C2%0AUnited%20Kingdom%2C6.2%2C3%0AUnited%20States%2C88.8%2C78'\n",
    "filename = 'mass_shootings.csv'\n",
    "\n",
    "mass_shootings = pd.read_csv(download_file(url, filename))\n",
    "mass_shootings.head()"
   ]
  },
  {
   "cell_type": "code",
   "execution_count": 9,
   "metadata": {},
   "outputs": [],
   "source": [
    "mass_shootings.rename(columns={'Number of mass shootings (1983-2013)':'Number of mass shootings'}, inplace=True)"
   ]
  },
  {
   "cell_type": "code",
   "execution_count": 10,
   "metadata": {},
   "outputs": [
    {
     "data": {
      "text/plain": [
       "Country                      object\n",
       "Guns per 100 inhabitants    float64\n",
       "Number of mass shootings      int64\n",
       "dtype: object"
      ]
     },
     "execution_count": 10,
     "metadata": {},
     "output_type": "execute_result"
    }
   ],
   "source": [
    "mass_shootings.dtypes"
   ]
  },
  {
   "cell_type": "code",
   "execution_count": 11,
   "metadata": {},
   "outputs": [
    {
     "name": "stdout",
     "output_type": "stream",
     "text": [
      "Downloading file.\n",
      "Extracting .zip container.\n",
      "Files in place, you can continue.\n"
     ]
    },
    {
     "data": {
      "text/html": [
       "<div>\n",
       "<table border=\"1\" class=\"dataframe\">\n",
       "  <thead>\n",
       "    <tr style=\"text-align: right;\">\n",
       "      <th></th>\n",
       "      <th>Country Name</th>\n",
       "      <th>Country Code</th>\n",
       "      <th>Indicator Name</th>\n",
       "      <th>Indicator Code</th>\n",
       "      <th>1960</th>\n",
       "      <th>1961</th>\n",
       "      <th>1962</th>\n",
       "      <th>1963</th>\n",
       "      <th>1964</th>\n",
       "      <th>1965</th>\n",
       "      <th>...</th>\n",
       "      <th>2009</th>\n",
       "      <th>2010</th>\n",
       "      <th>2011</th>\n",
       "      <th>2012</th>\n",
       "      <th>2013</th>\n",
       "      <th>2014</th>\n",
       "      <th>2015</th>\n",
       "      <th>2016</th>\n",
       "      <th>2017</th>\n",
       "      <th>Unnamed: 62</th>\n",
       "    </tr>\n",
       "  </thead>\n",
       "  <tbody>\n",
       "    <tr>\n",
       "      <th>0</th>\n",
       "      <td>Aruba</td>\n",
       "      <td>ABW</td>\n",
       "      <td>Population, total</td>\n",
       "      <td>SP.POP.TOTL</td>\n",
       "      <td>54211.0</td>\n",
       "      <td>55438.0</td>\n",
       "      <td>56225.0</td>\n",
       "      <td>56695.0</td>\n",
       "      <td>57032.0</td>\n",
       "      <td>57360.0</td>\n",
       "      <td>...</td>\n",
       "      <td>101453.0</td>\n",
       "      <td>101669.0</td>\n",
       "      <td>102053.0</td>\n",
       "      <td>102577.0</td>\n",
       "      <td>103187.0</td>\n",
       "      <td>103795.0</td>\n",
       "      <td>104341.0</td>\n",
       "      <td>104822.0</td>\n",
       "      <td>105264.0</td>\n",
       "      <td>NaN</td>\n",
       "    </tr>\n",
       "    <tr>\n",
       "      <th>1</th>\n",
       "      <td>Afghanistan</td>\n",
       "      <td>AFG</td>\n",
       "      <td>Population, total</td>\n",
       "      <td>SP.POP.TOTL</td>\n",
       "      <td>8996351.0</td>\n",
       "      <td>9166764.0</td>\n",
       "      <td>9345868.0</td>\n",
       "      <td>9533954.0</td>\n",
       "      <td>9731361.0</td>\n",
       "      <td>9938414.0</td>\n",
       "      <td>...</td>\n",
       "      <td>28004331.0</td>\n",
       "      <td>28803167.0</td>\n",
       "      <td>29708599.0</td>\n",
       "      <td>30696958.0</td>\n",
       "      <td>31731688.0</td>\n",
       "      <td>32758020.0</td>\n",
       "      <td>33736494.0</td>\n",
       "      <td>34656032.0</td>\n",
       "      <td>35530081.0</td>\n",
       "      <td>NaN</td>\n",
       "    </tr>\n",
       "    <tr>\n",
       "      <th>2</th>\n",
       "      <td>Angola</td>\n",
       "      <td>AGO</td>\n",
       "      <td>Population, total</td>\n",
       "      <td>SP.POP.TOTL</td>\n",
       "      <td>5643182.0</td>\n",
       "      <td>5753024.0</td>\n",
       "      <td>5866061.0</td>\n",
       "      <td>5980417.0</td>\n",
       "      <td>6093321.0</td>\n",
       "      <td>6203299.0</td>\n",
       "      <td>...</td>\n",
       "      <td>22549547.0</td>\n",
       "      <td>23369131.0</td>\n",
       "      <td>24218565.0</td>\n",
       "      <td>25096150.0</td>\n",
       "      <td>25998340.0</td>\n",
       "      <td>26920466.0</td>\n",
       "      <td>27859305.0</td>\n",
       "      <td>28813463.0</td>\n",
       "      <td>29784193.0</td>\n",
       "      <td>NaN</td>\n",
       "    </tr>\n",
       "    <tr>\n",
       "      <th>3</th>\n",
       "      <td>Albania</td>\n",
       "      <td>ALB</td>\n",
       "      <td>Population, total</td>\n",
       "      <td>SP.POP.TOTL</td>\n",
       "      <td>1608800.0</td>\n",
       "      <td>1659800.0</td>\n",
       "      <td>1711319.0</td>\n",
       "      <td>1762621.0</td>\n",
       "      <td>1814135.0</td>\n",
       "      <td>1864791.0</td>\n",
       "      <td>...</td>\n",
       "      <td>2927519.0</td>\n",
       "      <td>2913021.0</td>\n",
       "      <td>2905195.0</td>\n",
       "      <td>2900401.0</td>\n",
       "      <td>2895092.0</td>\n",
       "      <td>2889104.0</td>\n",
       "      <td>2880703.0</td>\n",
       "      <td>2876101.0</td>\n",
       "      <td>2873457.0</td>\n",
       "      <td>NaN</td>\n",
       "    </tr>\n",
       "    <tr>\n",
       "      <th>4</th>\n",
       "      <td>Andorra</td>\n",
       "      <td>AND</td>\n",
       "      <td>Population, total</td>\n",
       "      <td>SP.POP.TOTL</td>\n",
       "      <td>13411.0</td>\n",
       "      <td>14375.0</td>\n",
       "      <td>15370.0</td>\n",
       "      <td>16412.0</td>\n",
       "      <td>17469.0</td>\n",
       "      <td>18549.0</td>\n",
       "      <td>...</td>\n",
       "      <td>84462.0</td>\n",
       "      <td>84449.0</td>\n",
       "      <td>83751.0</td>\n",
       "      <td>82431.0</td>\n",
       "      <td>80788.0</td>\n",
       "      <td>79223.0</td>\n",
       "      <td>78014.0</td>\n",
       "      <td>77281.0</td>\n",
       "      <td>76965.0</td>\n",
       "      <td>NaN</td>\n",
       "    </tr>\n",
       "  </tbody>\n",
       "</table>\n",
       "<p>5 rows × 63 columns</p>\n",
       "</div>"
      ],
      "text/plain": [
       "  Country Name Country Code     Indicator Name Indicator Code       1960  \\\n",
       "0        Aruba          ABW  Population, total    SP.POP.TOTL    54211.0   \n",
       "1  Afghanistan          AFG  Population, total    SP.POP.TOTL  8996351.0   \n",
       "2       Angola          AGO  Population, total    SP.POP.TOTL  5643182.0   \n",
       "3      Albania          ALB  Population, total    SP.POP.TOTL  1608800.0   \n",
       "4      Andorra          AND  Population, total    SP.POP.TOTL    13411.0   \n",
       "\n",
       "        1961       1962       1963       1964       1965     ...       \\\n",
       "0    55438.0    56225.0    56695.0    57032.0    57360.0     ...        \n",
       "1  9166764.0  9345868.0  9533954.0  9731361.0  9938414.0     ...        \n",
       "2  5753024.0  5866061.0  5980417.0  6093321.0  6203299.0     ...        \n",
       "3  1659800.0  1711319.0  1762621.0  1814135.0  1864791.0     ...        \n",
       "4    14375.0    15370.0    16412.0    17469.0    18549.0     ...        \n",
       "\n",
       "         2009        2010        2011        2012        2013        2014  \\\n",
       "0    101453.0    101669.0    102053.0    102577.0    103187.0    103795.0   \n",
       "1  28004331.0  28803167.0  29708599.0  30696958.0  31731688.0  32758020.0   \n",
       "2  22549547.0  23369131.0  24218565.0  25096150.0  25998340.0  26920466.0   \n",
       "3   2927519.0   2913021.0   2905195.0   2900401.0   2895092.0   2889104.0   \n",
       "4     84462.0     84449.0     83751.0     82431.0     80788.0     79223.0   \n",
       "\n",
       "         2015        2016        2017  Unnamed: 62  \n",
       "0    104341.0    104822.0    105264.0          NaN  \n",
       "1  33736494.0  34656032.0  35530081.0          NaN  \n",
       "2  27859305.0  28813463.0  29784193.0          NaN  \n",
       "3   2880703.0   2876101.0   2873457.0          NaN  \n",
       "4     78014.0     77281.0     76965.0          NaN  \n",
       "\n",
       "[5 rows x 63 columns]"
      ]
     },
     "execution_count": 11,
     "metadata": {},
     "output_type": "execute_result"
    }
   ],
   "source": [
    "#World population\n",
    "url = 'http://api.worldbank.org/v2/en/indicator/SP.POP.TOTL?downloadformat=csv'\n",
    "filename = 'API_SP.POP.TOTL_DS2_en_csv_v2_10203548.zip'\n",
    "\n",
    "world_population = pd.read_csv(download_file(url, filename)[1], skiprows=4)\n",
    "world_population.head()"
   ]
  },
  {
   "cell_type": "code",
   "execution_count": 12,
   "metadata": {},
   "outputs": [],
   "source": [
    "world_population = world_population.loc[:,['Country Name','2012']].rename(columns={'2012':'pop'})"
   ]
  },
  {
   "cell_type": "code",
   "execution_count": 13,
   "metadata": {},
   "outputs": [
    {
     "data": {
      "text/plain": [
       "Country Name     object\n",
       "pop             float64\n",
       "dtype: object"
      ]
     },
     "execution_count": 13,
     "metadata": {},
     "output_type": "execute_result"
    }
   ],
   "source": [
    "world_population.dtypes"
   ]
  },
  {
   "cell_type": "code",
   "execution_count": 14,
   "metadata": {},
   "outputs": [
    {
     "name": "stdout",
     "output_type": "stream",
     "text": [
      "Downloading file.\n",
      "Extracting .zip container.\n",
      "Files in place, you can continue.\n"
     ]
    },
    {
     "data": {
      "text/html": [
       "<div>\n",
       "<table border=\"1\" class=\"dataframe\">\n",
       "  <thead>\n",
       "    <tr style=\"text-align: right;\">\n",
       "      <th></th>\n",
       "      <th>Country Name</th>\n",
       "      <th>Country Code</th>\n",
       "      <th>Indicator Name</th>\n",
       "      <th>Indicator Code</th>\n",
       "      <th>1960</th>\n",
       "      <th>1961</th>\n",
       "      <th>1962</th>\n",
       "      <th>1963</th>\n",
       "      <th>1964</th>\n",
       "      <th>1965</th>\n",
       "      <th>...</th>\n",
       "      <th>2009</th>\n",
       "      <th>2010</th>\n",
       "      <th>2011</th>\n",
       "      <th>2012</th>\n",
       "      <th>2013</th>\n",
       "      <th>2014</th>\n",
       "      <th>2015</th>\n",
       "      <th>2016</th>\n",
       "      <th>2017</th>\n",
       "      <th>Unnamed: 62</th>\n",
       "    </tr>\n",
       "  </thead>\n",
       "  <tbody>\n",
       "    <tr>\n",
       "      <th>0</th>\n",
       "      <td>Aruba</td>\n",
       "      <td>ABW</td>\n",
       "      <td>GDP (current US$)</td>\n",
       "      <td>NY.GDP.MKTP.CD</td>\n",
       "      <td>NaN</td>\n",
       "      <td>NaN</td>\n",
       "      <td>NaN</td>\n",
       "      <td>NaN</td>\n",
       "      <td>NaN</td>\n",
       "      <td>NaN</td>\n",
       "      <td>...</td>\n",
       "      <td>2.498933e+09</td>\n",
       "      <td>2.467704e+09</td>\n",
       "      <td>2.584464e+09</td>\n",
       "      <td>NaN</td>\n",
       "      <td>NaN</td>\n",
       "      <td>NaN</td>\n",
       "      <td>NaN</td>\n",
       "      <td>NaN</td>\n",
       "      <td>NaN</td>\n",
       "      <td>NaN</td>\n",
       "    </tr>\n",
       "    <tr>\n",
       "      <th>1</th>\n",
       "      <td>Afghanistan</td>\n",
       "      <td>AFG</td>\n",
       "      <td>GDP (current US$)</td>\n",
       "      <td>NY.GDP.MKTP.CD</td>\n",
       "      <td>5.377778e+08</td>\n",
       "      <td>5.488889e+08</td>\n",
       "      <td>5.466667e+08</td>\n",
       "      <td>7.511112e+08</td>\n",
       "      <td>8.000000e+08</td>\n",
       "      <td>1.006667e+09</td>\n",
       "      <td>...</td>\n",
       "      <td>1.248694e+10</td>\n",
       "      <td>1.593680e+10</td>\n",
       "      <td>1.793024e+10</td>\n",
       "      <td>2.053654e+10</td>\n",
       "      <td>2.026425e+10</td>\n",
       "      <td>2.061610e+10</td>\n",
       "      <td>1.921556e+10</td>\n",
       "      <td>1.946902e+10</td>\n",
       "      <td>2.081530e+10</td>\n",
       "      <td>NaN</td>\n",
       "    </tr>\n",
       "    <tr>\n",
       "      <th>2</th>\n",
       "      <td>Angola</td>\n",
       "      <td>AGO</td>\n",
       "      <td>GDP (current US$)</td>\n",
       "      <td>NY.GDP.MKTP.CD</td>\n",
       "      <td>NaN</td>\n",
       "      <td>NaN</td>\n",
       "      <td>NaN</td>\n",
       "      <td>NaN</td>\n",
       "      <td>NaN</td>\n",
       "      <td>NaN</td>\n",
       "      <td>...</td>\n",
       "      <td>7.549239e+10</td>\n",
       "      <td>8.252614e+10</td>\n",
       "      <td>1.041158e+11</td>\n",
       "      <td>1.139232e+11</td>\n",
       "      <td>1.249125e+11</td>\n",
       "      <td>1.267302e+11</td>\n",
       "      <td>1.026212e+11</td>\n",
       "      <td>9.533720e+10</td>\n",
       "      <td>1.242094e+11</td>\n",
       "      <td>NaN</td>\n",
       "    </tr>\n",
       "    <tr>\n",
       "      <th>3</th>\n",
       "      <td>Albania</td>\n",
       "      <td>ALB</td>\n",
       "      <td>GDP (current US$)</td>\n",
       "      <td>NY.GDP.MKTP.CD</td>\n",
       "      <td>NaN</td>\n",
       "      <td>NaN</td>\n",
       "      <td>NaN</td>\n",
       "      <td>NaN</td>\n",
       "      <td>NaN</td>\n",
       "      <td>NaN</td>\n",
       "      <td>...</td>\n",
       "      <td>1.204421e+10</td>\n",
       "      <td>1.192695e+10</td>\n",
       "      <td>1.289087e+10</td>\n",
       "      <td>1.231978e+10</td>\n",
       "      <td>1.277628e+10</td>\n",
       "      <td>1.322824e+10</td>\n",
       "      <td>1.138693e+10</td>\n",
       "      <td>1.188368e+10</td>\n",
       "      <td>1.303935e+10</td>\n",
       "      <td>NaN</td>\n",
       "    </tr>\n",
       "    <tr>\n",
       "      <th>4</th>\n",
       "      <td>Andorra</td>\n",
       "      <td>AND</td>\n",
       "      <td>GDP (current US$)</td>\n",
       "      <td>NY.GDP.MKTP.CD</td>\n",
       "      <td>NaN</td>\n",
       "      <td>NaN</td>\n",
       "      <td>NaN</td>\n",
       "      <td>NaN</td>\n",
       "      <td>NaN</td>\n",
       "      <td>NaN</td>\n",
       "      <td>...</td>\n",
       "      <td>3.660531e+09</td>\n",
       "      <td>3.355695e+09</td>\n",
       "      <td>3.442063e+09</td>\n",
       "      <td>3.164615e+09</td>\n",
       "      <td>3.281585e+09</td>\n",
       "      <td>3.350736e+09</td>\n",
       "      <td>2.811489e+09</td>\n",
       "      <td>2.877312e+09</td>\n",
       "      <td>3.012914e+09</td>\n",
       "      <td>NaN</td>\n",
       "    </tr>\n",
       "  </tbody>\n",
       "</table>\n",
       "<p>5 rows × 63 columns</p>\n",
       "</div>"
      ],
      "text/plain": [
       "  Country Name Country Code     Indicator Name  Indicator Code          1960  \\\n",
       "0        Aruba          ABW  GDP (current US$)  NY.GDP.MKTP.CD           NaN   \n",
       "1  Afghanistan          AFG  GDP (current US$)  NY.GDP.MKTP.CD  5.377778e+08   \n",
       "2       Angola          AGO  GDP (current US$)  NY.GDP.MKTP.CD           NaN   \n",
       "3      Albania          ALB  GDP (current US$)  NY.GDP.MKTP.CD           NaN   \n",
       "4      Andorra          AND  GDP (current US$)  NY.GDP.MKTP.CD           NaN   \n",
       "\n",
       "           1961          1962          1963          1964          1965  \\\n",
       "0           NaN           NaN           NaN           NaN           NaN   \n",
       "1  5.488889e+08  5.466667e+08  7.511112e+08  8.000000e+08  1.006667e+09   \n",
       "2           NaN           NaN           NaN           NaN           NaN   \n",
       "3           NaN           NaN           NaN           NaN           NaN   \n",
       "4           NaN           NaN           NaN           NaN           NaN   \n",
       "\n",
       "      ...               2009          2010          2011          2012  \\\n",
       "0     ...       2.498933e+09  2.467704e+09  2.584464e+09           NaN   \n",
       "1     ...       1.248694e+10  1.593680e+10  1.793024e+10  2.053654e+10   \n",
       "2     ...       7.549239e+10  8.252614e+10  1.041158e+11  1.139232e+11   \n",
       "3     ...       1.204421e+10  1.192695e+10  1.289087e+10  1.231978e+10   \n",
       "4     ...       3.660531e+09  3.355695e+09  3.442063e+09  3.164615e+09   \n",
       "\n",
       "           2013          2014          2015          2016          2017  \\\n",
       "0           NaN           NaN           NaN           NaN           NaN   \n",
       "1  2.026425e+10  2.061610e+10  1.921556e+10  1.946902e+10  2.081530e+10   \n",
       "2  1.249125e+11  1.267302e+11  1.026212e+11  9.533720e+10  1.242094e+11   \n",
       "3  1.277628e+10  1.322824e+10  1.138693e+10  1.188368e+10  1.303935e+10   \n",
       "4  3.281585e+09  3.350736e+09  2.811489e+09  2.877312e+09  3.012914e+09   \n",
       "\n",
       "   Unnamed: 62  \n",
       "0          NaN  \n",
       "1          NaN  \n",
       "2          NaN  \n",
       "3          NaN  \n",
       "4          NaN  \n",
       "\n",
       "[5 rows x 63 columns]"
      ]
     },
     "execution_count": 14,
     "metadata": {},
     "output_type": "execute_result"
    }
   ],
   "source": [
    "#World GDP\n",
    "url = 'http://api.worldbank.org/v2/en/indicator/NY.GDP.MKTP.CD?downloadformat=csv'\n",
    "filename = 'API_NY.GDP.MKTP.CD_DS2_en_csv_v2_10203569.zip'\n",
    "\n",
    "world_gdp = pd.read_csv(download_file(url, filename)[1], skiprows=4)\n",
    "world_gdp.head()"
   ]
  },
  {
   "cell_type": "code",
   "execution_count": 15,
   "metadata": {},
   "outputs": [],
   "source": [
    "world_gdp = world_gdp.loc[:,['Country Name','2012']].rename(columns={'2012':'gdp'})"
   ]
  },
  {
   "cell_type": "code",
   "execution_count": 16,
   "metadata": {},
   "outputs": [
    {
     "data": {
      "text/plain": [
       "Country Name     object\n",
       "gdp             float64\n",
       "dtype: object"
      ]
     },
     "execution_count": 16,
     "metadata": {},
     "output_type": "execute_result"
    }
   ],
   "source": [
    "world_gdp.dtypes"
   ]
  },
  {
   "cell_type": "code",
   "execution_count": 17,
   "metadata": {},
   "outputs": [
    {
     "data": {
      "text/html": [
       "<div>\n",
       "<table border=\"1\" class=\"dataframe\">\n",
       "  <thead>\n",
       "    <tr style=\"text-align: right;\">\n",
       "      <th></th>\n",
       "      <th>Country</th>\n",
       "      <th>Number of homicides by firearm</th>\n",
       "      <th>Average total all civilian firearms</th>\n",
       "      <th>Guns per 100 inhabitants</th>\n",
       "      <th>Number of mass shootings</th>\n",
       "      <th>pop</th>\n",
       "      <th>gdp</th>\n",
       "    </tr>\n",
       "  </thead>\n",
       "  <tbody>\n",
       "    <tr>\n",
       "      <th>0</th>\n",
       "      <td>Australia</td>\n",
       "      <td>30.0</td>\n",
       "      <td>3050000.0</td>\n",
       "      <td>15.0</td>\n",
       "      <td>4</td>\n",
       "      <td>22742475.0</td>\n",
       "      <td>1.543411e+12</td>\n",
       "    </tr>\n",
       "    <tr>\n",
       "      <th>1</th>\n",
       "      <td>Austria</td>\n",
       "      <td>18.0</td>\n",
       "      <td>2500000.0</td>\n",
       "      <td>30.4</td>\n",
       "      <td>1</td>\n",
       "      <td>8429991.0</td>\n",
       "      <td>4.094252e+11</td>\n",
       "    </tr>\n",
       "    <tr>\n",
       "      <th>2</th>\n",
       "      <td>Belgium</td>\n",
       "      <td>70.0</td>\n",
       "      <td>1800000.0</td>\n",
       "      <td>17.2</td>\n",
       "      <td>2</td>\n",
       "      <td>11128246.0</td>\n",
       "      <td>4.978842e+11</td>\n",
       "    </tr>\n",
       "    <tr>\n",
       "      <th>3</th>\n",
       "      <td>Canada</td>\n",
       "      <td>173.0</td>\n",
       "      <td>9950000.0</td>\n",
       "      <td>30.8</td>\n",
       "      <td>4</td>\n",
       "      <td>34750545.0</td>\n",
       "      <td>1.824289e+12</td>\n",
       "    </tr>\n",
       "    <tr>\n",
       "      <th>4</th>\n",
       "      <td>Denmark</td>\n",
       "      <td>15.0</td>\n",
       "      <td>650000.0</td>\n",
       "      <td>12.0</td>\n",
       "      <td>0</td>\n",
       "      <td>5591572.0</td>\n",
       "      <td>3.271489e+11</td>\n",
       "    </tr>\n",
       "  </tbody>\n",
       "</table>\n",
       "</div>"
      ],
      "text/plain": [
       "     Country  Number of homicides by firearm  \\\n",
       "0  Australia                            30.0   \n",
       "1    Austria                            18.0   \n",
       "2    Belgium                            70.0   \n",
       "3     Canada                           173.0   \n",
       "4    Denmark                            15.0   \n",
       "\n",
       "   Average total all civilian firearms  Guns per 100 inhabitants  \\\n",
       "0                            3050000.0                      15.0   \n",
       "1                            2500000.0                      30.4   \n",
       "2                            1800000.0                      17.2   \n",
       "3                            9950000.0                      30.8   \n",
       "4                             650000.0                      12.0   \n",
       "\n",
       "   Number of mass shootings         pop           gdp  \n",
       "0                         4  22742475.0  1.543411e+12  \n",
       "1                         1   8429991.0  4.094252e+11  \n",
       "2                         2  11128246.0  4.978842e+11  \n",
       "3                         4  34750545.0  1.824289e+12  \n",
       "4                         0   5591572.0  3.271489e+11  "
      ]
     },
     "execution_count": 17,
     "metadata": {},
     "output_type": "execute_result"
    }
   ],
   "source": [
    "df_ = world_firearms.merge(\n",
    "    mass_shootings, on='Country').merge(\n",
    "    world_population, right_on='Country Name', left_on='Country').merge(\n",
    "    world_gdp, on='Country Name').drop(labels='Country Name', axis=1)\n",
    "df_.head()"
   ]
  },
  {
   "cell_type": "markdown",
   "metadata": {
    "run_control": {
     "frozen": false,
     "read_only": false
    }
   },
   "source": [
    "# exploration\n",
    "\n",
    "## plot mass shooting vs gdp in absolute numbers, and per person. Show the errorbars (y errors)\n",
    "\n",
    "Use Poisson statistics for the errorbars on the number of mass shootings (optional: include errors on the population, also as Poisson statistics)\n",
    "\n",
    "Are there any points that look like they may be outilers?\n"
   ]
  },
  {
   "cell_type": "code",
   "execution_count": 18,
   "metadata": {},
   "outputs": [
    {
     "data": {
      "image/png": "[encoded data removed]",
      "text/plain": [
       "<matplotlib.figure.Figure at 0x7fc41cadf198>"
      ]
     },
     "metadata": {},
     "output_type": "display_data"
    },
    {
     "name": "stdout",
     "output_type": "stream",
     "text": [
      "Number of mass shooting vs GDP in absolute numbers and per person, errors represent Poisson statistics.\n",
      "The datapoint to the top right of Figure 1 is the USA,which has both the highest GDP and the highest number of mass shootings.\n",
      "When using GDP per person in Figure 1, it is more clear that the USA is an outlier.\n"
     ]
    }
   ],
   "source": [
    "fig = pl.figure(figsize=(20,5)) \n",
    "(ax1, ax2) = fig.subplots(1,2)\n",
    "\n",
    "#First\n",
    "ax1.scatter(df_.gdp / 1e9, df_['Number of mass shootings'])\n",
    "ax1.errorbar(df_.gdp / 1e9, df_['Number of mass shootings'],\n",
    "            yerr = np.sqrt(df_['Number of mass shootings'] * 1.0), fmt = '.', capsize=2)\n",
    "ax1.set_ylim()\n",
    "ax1.grid(False)\n",
    "\n",
    "ax1.set_title(\"Figure 1: Number of mass shooting vs GDP\")\n",
    "ax1.set_xlabel(\"GDP (in billions)\")\n",
    "ax1.set_ylabel(\"Number of mass shootings\")\n",
    "\n",
    "#Second\n",
    "ax2.scatter(df_.gdp / df_['pop'], df_['Number of mass shootings'])\n",
    "ax2.errorbar(df_.gdp / df_['pop'], df_['Number of mass shootings'],\n",
    "            yerr = np.sqrt(df_['Number of mass shootings']), fmt = '.', capsize=2)\n",
    "ax2.set_ylim()\n",
    "ax2.grid(False)\n",
    "\n",
    "ax2.set_title(\"Figure 2: Number of mass shooting vs GDP per person\")\n",
    "ax2.set_xlabel(\"GDP per person\")\n",
    "ax2.set_ylabel(\"Number of mass shootings\")\n",
    "\n",
    "pl.show()\n",
    "print (\"Number of mass shooting vs GDP in absolute numbers and per person, \" + \n",
    "       \"errors represent Poisson statistics.\\n\" + \n",
    "       \"The datapoint to the top right of Figure 1 is the USA,\" + \n",
    "       \"which has both the highest GDP and the highest number of mass shootings.\\n\"+\n",
    "       \"When using GDP per person in Figure 1, it is more clear that the USA is an outlier.\")"
   ]
  },
  {
   "cell_type": "markdown",
   "metadata": {
    "run_control": {
     "frozen": false,
     "read_only": false
    }
   },
   "source": [
    "## plot the average number of civilian fire arms per person\n",
    "first without errors, then with errors. are there  points that look like outliers?"
   ]
  },
  {
   "cell_type": "code",
   "execution_count": 19,
   "metadata": {},
   "outputs": [
    {
     "data": {
      "image/png": "[encoded data removed]",
      "text/plain": [
       "<matplotlib.figure.Figure at 0x7fc41e1a36d8>"
      ]
     },
     "metadata": {},
     "output_type": "display_data"
    },
    {
     "name": "stdout",
     "output_type": "stream",
     "text": [
      "Civilian firearms per person without and with errors, errors represent Poisson statistics.\n",
      "In Figure 3 the USA looks like an outlier, which is confirmed by Figure 4\n",
      "when adding the statistical error.\n"
     ]
    }
   ],
   "source": [
    "fig = pl.figure(figsize=(20,12)) \n",
    "(ax1, ax2) = fig.subplots(1,2)\n",
    "\n",
    "#First\n",
    "ax1.barh(df_['Country'],df_['Average total all civilian firearms']/df_['pop']  * 1e3)\n",
    "ax1.set_ylim()\n",
    "ax1.grid(False)\n",
    "\n",
    "ax1.set_title(\"Figure 3: Civilian firearms per person\")\n",
    "ax1.set_xlabel(\"Average number of civilian firearms per 1000 people\")\n",
    "ax1.set_ylabel(\"Country\")\n",
    "\n",
    "#Second\n",
    "ax2.barh(df_['Country'],df_['Average total all civilian firearms']/df_['pop']  * 1e3)\n",
    "ax2.errorbar(df_['Average total all civilian firearms']/df_['pop']  * 1e3, df_['Country'],\n",
    "            xerr = np.sqrt(df_['Average total all civilian firearms']/df_['pop']  * 1e3), fmt = '.', capsize=2, color='k')\n",
    "ax2.set_ylim()\n",
    "ax2.grid(False)\n",
    "\n",
    "ax2.set_title(\"Figure 4: Civilian firearms per person with error\")\n",
    "ax2.set_xlabel(\"Average number of civilian firearms per 1000 people\")\n",
    "ax2.set_ylabel(\"Country\")\n",
    "\n",
    "pl.subplots_adjust(wspace=0.3)\n",
    "\n",
    "pl.show()\n",
    "print (\"Civilian firearms per person without and with errors, \" + \n",
    "       \"errors represent Poisson statistics.\\n\" + \n",
    "       \"In Figure 3 the USA looks like an outlier, which is confirmed by Figure 4\\n\" + \n",
    "       \"when adding the statistical error.\")"
   ]
  },
  {
   "cell_type": "markdown",
   "metadata": {
    "run_control": {
     "frozen": false,
     "read_only": false
    }
   },
   "source": [
    "## plot the average number of homicide by fire arms per person\n",
    "first as a histogram\n",
    "\n",
    "then against the country GDP, with statistical errors. are there  points that look like outliers?"
   ]
  },
  {
   "cell_type": "code",
   "execution_count": 20,
   "metadata": {},
   "outputs": [
    {
     "data": {
      "image/png": "[encoded data removed]",
      "text/plain": [
       "<matplotlib.figure.Figure at 0x7fc419a8ffd0>"
      ]
     },
     "metadata": {},
     "output_type": "display_data"
    },
    {
     "name": "stdout",
     "output_type": "stream",
     "text": [
      "Homicides by firearm per person, errors represent Poisson statistics.\n",
      "In the histogram in Figure 5 the USA looks like an outlier.When plotting with error bars against GDP in Figure 6\n",
      "we can see that the statistical error does not explain the difference.\n"
     ]
    }
   ],
   "source": [
    "fig = pl.figure(figsize=(20,7)) \n",
    "(ax1, ax2) = fig.subplots(1,2)\n",
    "\n",
    "#First\n",
    "ax1.hist(df_['Number of homicides by firearm'] / df_['pop'] * 1e6)\n",
    "ax1.set_ylim()\n",
    "ax1.grid(False)\n",
    "\n",
    "ax1.set_title(\"Figure 5: Histogram of homicides by firearm\")\n",
    "ax1.set_xlabel('Homicides by firearm per million people');\n",
    "ax1.set_ylabel(\"Count\")\n",
    "\n",
    "#Second\n",
    "ax2.scatter(df_.gdp / 1e9, df_['Number of homicides by firearm'] / df_['pop'] * 1e6)\n",
    "ax2.errorbar(df_.gdp / 1e9, df_['Number of homicides by firearm'] / df_['pop'] * 1e6,\n",
    "            yerr = np.sqrt(df_['Number of homicides by firearm'] / df_['pop'] * 1e6), fmt = '.', capsize=2)\n",
    "ax2.set_ylim()\n",
    "ax2.grid(False)\n",
    "\n",
    "ax2.set_title(\"Figure 6: Homicides by firearm vs GDP\")\n",
    "ax2.set_xlabel(\"GDP (in billions)\")\n",
    "ax2.set_ylabel(\"Homicides by firearm per million people\")\n",
    "\n",
    "\n",
    "pl.show()\n",
    "print (\"Homicides by firearm per person, \" + \n",
    "       \"errors represent Poisson statistics.\\n\" + \n",
    "       \"In the histogram in Figure 5 the USA looks like an outlier.\" + \n",
    "       \"When plotting with error bars against GDP in Figure 6\\n\"+\n",
    "       \"we can see that the statistical error does not explain the difference.\")"
   ]
  },
  {
   "cell_type": "markdown",
   "metadata": {
    "run_control": {
     "frozen": false,
     "read_only": false
    }
   },
   "source": [
    "## plot the number of  homicides by fire arm against the number of civilian firearms. plot the  US in a different color\n",
    "with and without errorbars\n"
   ]
  },
  {
   "cell_type": "code",
   "execution_count": 21,
   "metadata": {},
   "outputs": [
    {
     "data": {
      "image/png": "[encoded data removed]",
      "text/plain": [
       "<matplotlib.figure.Figure at 0x7fc419f125f8>"
      ]
     },
     "metadata": {},
     "output_type": "display_data"
    },
    {
     "name": "stdout",
     "output_type": "stream",
     "text": [
      "Number of homicides by firearm against civilian firearms with and without errors, errors represent Poisson statistics.\n",
      "The datapoint to the top right of both Figure 7 and 8 is the USA,which has both the highest number of homicides by firearms\n",
      "and the highest number of civilian firearms.\n",
      "The errors shown in Figure 8 are proportionally small, confirming that the USA is an outlier.\n"
     ]
    }
   ],
   "source": [
    "fig = pl.figure(figsize=(20,5)) \n",
    "(ax1, ax2) = fig.subplots(1,2)\n",
    "\n",
    "#First\n",
    "ax1.scatter(df_['Average total all civilian firearms'] / 1e6, df_['Number of homicides by firearm'] / 1e2)\n",
    "ax1.scatter(df_.loc[df_.Country=='United States','Average total all civilian firearms'] / 1e6,\n",
    "            df_.loc[df_.Country=='United States','Number of homicides by firearm'] / 1e2, color='r')\n",
    "ax1.set_ylim()\n",
    "ax1.grid(False)\n",
    "\n",
    "ax1.set_title(\"Figure 7: Homicides by firearm vs civilian firearms\")\n",
    "ax1.set_xlabel(\"Number of civilian firearms (millions)\")\n",
    "ax1.set_ylabel(\"Number of homicides by firearm\")\n",
    "\n",
    "#Second\n",
    "ax2.errorbar(df_['Average total all civilian firearms'] / 1e6,\n",
    "             df_['Number of homicides by firearm'] / 1e2,\n",
    "            yerr = np.sqrt(df_['Number of homicides by firearm'] / 1e2), fmt = '.', capsize=3)\n",
    "ax2.errorbar(df_.loc[df_.Country=='United States','Average total all civilian firearms'] / 1e6,\n",
    "             df_.loc[df_.Country=='United States','Number of homicides by firearm'] / 1e2,\n",
    "             yerr = np.sqrt(df_.loc[df_.Country=='United States','Number of homicides by firearm'] / 1e2),\n",
    "             fmt = '.', capsize=3, color='r')\n",
    "ax2.set_ylim()\n",
    "ax2.grid(False)\n",
    "\n",
    "ax2.set_title(\"Figure 8: Homicides by firearm vs civilian firearms, with errors\")\n",
    "ax2.set_xlabel(\"Number of civilian firearms (millions)\")\n",
    "ax2.set_ylabel(\"Number of homicides by firearm\")\n",
    "\n",
    "pl.show()\n",
    "print (\"Number of homicides by firearm against civilian firearms with and without errors, \" + \n",
    "       \"errors represent Poisson statistics.\\n\" + \n",
    "       \"The datapoint to the top right of both Figure 7 and 8 is the USA,\" + \n",
    "       \"which has both the highest number of homicides by firearms\\n\"+\n",
    "       \"and the highest number of civilian firearms.\\n\"+\n",
    "       \"The errors shown in Figure 8 are proportionally small, confirming that the USA is an outlier.\")"
   ]
  },
  {
   "cell_type": "markdown",
   "metadata": {
    "run_control": {
     "frozen": false,
     "read_only": false
    }
   },
   "source": [
    "## plot the number of  mass shootings against the number of civilian firearms. plot the  US in a different color\n",
    "with and without errorbars\n"
   ]
  },
  {
   "cell_type": "code",
   "execution_count": 22,
   "metadata": {},
   "outputs": [
    {
     "data": {
      "image/png": "[encoded data removed]",
      "text/plain": [
       "<matplotlib.figure.Figure at 0x7fc419ed5f98>"
      ]
     },
     "metadata": {},
     "output_type": "display_data"
    },
    {
     "name": "stdout",
     "output_type": "stream",
     "text": [
      "Number of mass shootings against civilian firearms with and without errors, errors represent Poisson statistics.\n",
      "The datapoint to the top right of both Figure 9 and 10 is the USA,which has both the highest number of mass shootings\n",
      "and the highest number of civilian firearms.\n",
      "The errors shown in Figure 10 are again small, confirming that the USA is an outlier.\n"
     ]
    }
   ],
   "source": [
    "fig = pl.figure(figsize=(20,5)) \n",
    "(ax1, ax2) = fig.subplots(1,2)\n",
    "\n",
    "#First\n",
    "ax1.scatter(df_['Average total all civilian firearms'] / 1e6, df_['Number of mass shootings'])\n",
    "ax1.scatter(df_.loc[df_.Country=='United States','Average total all civilian firearms'] / 1e6,\n",
    "            df_.loc[df_.Country=='United States','Number of mass shootings'] , color='r')\n",
    "ax1.set_ylim()\n",
    "ax1.grid(False)\n",
    "\n",
    "ax1.set_title(\"Figure 9: Mass shootings vs civilian firearms\")\n",
    "ax1.set_xlabel(\"Number of civilian firearms (millions)\")\n",
    "ax1.set_ylabel(\"Number of mass shootings\")\n",
    "\n",
    "#Second\n",
    "ax2.errorbar(df_['Average total all civilian firearms'] / 1e6, df_['Number of mass shootings'],\n",
    "            yerr = np.sqrt(df_['Number of mass shootings'] * 1.0), fmt = '.', capsize=3)\n",
    "ax2.errorbar(df_.loc[df_.Country=='United States','Average total all civilian firearms'] / 1e6,\n",
    "             df_.loc[df_.Country=='United States','Number of mass shootings'] ,\n",
    "             yerr = np.sqrt(df_.loc[df_.Country=='United States','Number of mass shootings'] ),\n",
    "             fmt = '.', capsize=3, color='r')\n",
    "ax2.set_ylim()\n",
    "ax2.grid(False)\n",
    "\n",
    "ax2.set_title(\"Figure 10: Mass shootings vs civilian firearms, with errors\")\n",
    "ax2.set_xlabel(\"Number of civilian firearms (millions)\")\n",
    "ax2.set_ylabel(\"Number of mass shootings\")\n",
    "\n",
    "pl.show()\n",
    "print (\"Number of mass shootings against civilian firearms with and without errors, \" + \n",
    "       \"errors represent Poisson statistics.\\n\" + \n",
    "       \"The datapoint to the top right of both Figure 9 and 10 is the USA,\" + \n",
    "       \"which has both the highest number of mass shootings\\n\"+\n",
    "       \"and the highest number of civilian firearms.\\n\"+\n",
    "       \"The errors shown in Figure 10 are again small, confirming that the USA is an outlier.\")"
   ]
  },
  {
   "cell_type": "markdown",
   "metadata": {
    "run_control": {
     "frozen": false,
     "read_only": false
    }
   },
   "source": [
    "# Modeling\n",
    "\n",
    "## fit a line to the Number of mass shootings  per person as a function of Average total all civilian firearms per person. \n",
    "Before you do it it is a good idea to make sure that both quantities are roughly of the same order of magnitude (unity). (You can simply divide by the order of magnitude of the mean of the sample to obtain this). Use\n",
    "\n",
    "    - statsmodels OLS\n",
    "    - statsmodels WLS\n",
    "    - seaborn\n",
    "    - choose one of\n",
    "        -- creating a function that calculates the residuals and minimizing that function\n",
    "        -- analytical solution http://mathworld.wolfram.com/LeastSquaresFitting.html\n",
    "        -- numpy.polyfit() - https://docs.scipy.org/doc/numpy-1.13.0/reference/generated/numpy.polyfit.html\n",
    "    \n",
    "\n",
    "WLS: that is the weighted square fit. The statsmodel package WLS function allows you to take the uncertainties of each data point into account when you fit your model. It takes the parameter weights, which is the inverse of your errors:\n",
    "weights = 1.0/df.yerror\n",
    "Notice that \n",
    "    a - sqrt(0) = 0\n",
    "    b - 1/0 = infinity\n",
    "    c - you cannot have weight that are infinity in your fit. Please come up with a solution and justify it.\n",
    "\n",
    "\n",
    "the latter three you can learn about in this example: https://github.com/fedhere/PUI2017_fb55/blob/master/Lab5_fb55/genderIncomeBias.ipynb\n",
    "Since we did not discuss these, I will add some notes to the repo in the afternoon.\n",
    "\n",
    "Use the seaborn python package built in regression function  to plot the regression confidence intervals. \n",
    "\n",
    "import seaborn  as sns\n",
    "sns.regplot(x=\"x\", y=\"y\", data=df);\n",
    "\n",
    "\n"
   ]
  },
  {
   "cell_type": "code",
   "execution_count": 23,
   "metadata": {},
   "outputs": [],
   "source": [
    "#Creating each variable and normalizing by its average\n",
    "df_['firearms_pp'] = (df_['Average total all civilian firearms'] / df_['pop']) / np.mean(df_['Average total all civilian firearms'] / df_['pop'])\n",
    "df_['shootings_pp'] = ( df_['Number of mass shootings'] / df_['pop'] ) / np.mean(df_['Number of mass shootings'] / df_['pop'])"
   ]
  },
  {
   "cell_type": "code",
   "execution_count": 24,
   "metadata": {},
   "outputs": [
    {
     "name": "stdout",
     "output_type": "stream",
     "text": [
      "[0.83526285738518058, 1.0153548230473601, 0.82635191652054751, 1.0305918067608306, 10.0, 0.57739416528775256, 1.1550797927471055, 1.1831561777052482, 10.0, 10.0, 10.0, 10.0, 10.0, 10.0, 10.0, 0.42572166215849422, 0.78505888867335094, 10.0, 1.1325379100603679, 2.3374981954230019, 0.76466349623259133, 0.70117932628427049, 0.70354187945671487]\n"
     ]
    }
   ],
   "source": [
    "#Weights for WLS\n",
    "\n",
    "#I added 0.01 to each variable to avoid having zeros that would end up as infinity for the weights.\n",
    "#0.01 is sufficiently small proportionally to the data, and doing it for all the data points avoids\n",
    "#introducing biased noise\n",
    "\n",
    "errors = [np.sqrt(i+0.01) for i in df_['shootings_pp']]\n",
    "weights = [1/e for e in errors]\n",
    "print(weights)"
   ]
  },
  {
   "cell_type": "code",
   "execution_count": 33,
   "metadata": {},
   "outputs": [
    {
     "data": {
      "image/png": "[encoded data removed]",
      "text/plain": [
       "<matplotlib.figure.Figure at 0x7fc41a10d358>"
      ]
     },
     "metadata": {},
     "output_type": "display_data"
    },
    {
     "name": "stdout",
     "output_type": "stream",
     "text": [
      "Line fitting using different packages. Figures 10, 12 and 13 show an\n",
      "Ordinary Least Squares regression with different packages so the lines are the same.\n",
      "Figure 11 is a Weighted Least Squares regression, weighting by error in the endogenous variable\n"
     ]
    }
   ],
   "source": [
    "fig = pl.figure(figsize=(12,12))\n",
    "(ax1, ax2), (ax3, ax4) = fig.subplots(2,2)\n",
    "\n",
    "#First: OLS\n",
    "ax1.errorbar(df_['firearms_pp'], df_['shootings_pp'],\n",
    "            yerr = errors, fmt = '.', capsize=2, color='grey')\n",
    "smOLS = smf.ols(formula='shootings_pp ~ firearms_pp', data=df_).fit()\n",
    "ax1.plot(df_['firearms_pp'], smOLS.predict())\n",
    "ax1.set_ylim()\n",
    "ax1.grid(False)\n",
    "\n",
    "ax1.set_title(\"Figure 10: Mass shootings vs Civilian firearms\\nLine fitting with Statmodels OLS\", fontsize=13)\n",
    "ax1.set_xlabel(\"Civilian firearms\", fontsize=13)\n",
    "ax1.set_ylabel(\"Mass shootings\", fontsize=13)\n",
    "\n",
    "#Second: WLS\n",
    "ax2.errorbar(df_['firearms_pp'], df_['shootings_pp'],\n",
    "            yerr = errors, fmt = '.', capsize=2, color='grey')\n",
    "smWLS = smf.wls(formula='shootings_pp ~ firearms_pp', data=df_, weights=weights).fit()\n",
    "ax2.plot(df_['firearms_pp'], smWLS.predict())\n",
    "ax2.set_ylim()\n",
    "ax2.grid(False)\n",
    "\n",
    "ax2.set_title(\"Figure 11: Mass shootings vs Civilian firearms\\nLine fitting with Statmodels WLS\", fontsize=13)\n",
    "ax2.set_xlabel(\"Civilian firearms\", fontsize=13)\n",
    "ax2.set_ylabel(\"Mass shootings\", fontsize=13)\n",
    "\n",
    "#Third: Seaborn\n",
    "ax3.errorbar(df_['firearms_pp'], df_['shootings_pp'],\n",
    "            yerr = errors, fmt = '.', capsize=2, color='grey')\n",
    "sns.regplot(x=df_['firearms_pp'], y=df_['shootings_pp'], ax=ax3, scatter=False)\n",
    "ax3.set_ylim()\n",
    "ax3.grid(False)\n",
    "\n",
    "ax3.set_title(\"Figure 12: Mass shootings vs Civilian firearms\\nLine fitting with Seaborn\", fontsize=13)\n",
    "ax3.set_xlabel(\"Civilian firearms\", fontsize=13)\n",
    "ax3.set_ylabel(\"Mass shootings\", fontsize=13)\n",
    "\n",
    "#Fourth: Numpy\n",
    "ax4.errorbar(df_['firearms_pp'], df_['shootings_pp'],\n",
    "            yerr = errors, fmt = '.', capsize=2, color='grey')\n",
    "coeffs = np.polyfit(df_['firearms_pp'],df_['shootings_pp'], deg=1)\n",
    "ax4.plot(df_['firearms_pp'], coeffs[0]*df_['firearms_pp'] + coeffs[1], color='b')\n",
    "ax4.set_ylim()\n",
    "ax4.grid(False)\n",
    "\n",
    "ax4.set_title(\"Figure 13: Mass shootings vs Civilian firearms\\nLine fitting with Numpy Polyfit\", fontsize=13)\n",
    "ax4.set_xlabel(\"Civilian firearms\", fontsize=13)\n",
    "ax4.set_ylabel(\"Mass shootings\", fontsize=13)\n",
    "\n",
    "pl.subplots_adjust(hspace=0.3)\n",
    "\n",
    "pl.show()\n",
    "print (\"Line fitting using different packages. Figures 10, 12 and 13 show an\\n\" + \n",
    "       \"Ordinary Least Squares regression with different packages so the lines are the same.\\n\" +\n",
    "       \"Figure 11 is a Weighted Least Squares regression, weighting by error in the endogenous variable\")"
   ]
  },
  {
   "cell_type": "markdown",
   "metadata": {
    "run_control": {
     "frozen": false,
     "read_only": false
    }
   },
   "source": [
    "## Outlier removal:\n",
    "The concept of outlier is actually rather sophisticated: a point can be an outlier in a context but not in another. If you want to remove outliers and try different fits, here is some info on how to remove data efficiently from a dataset \n",
    "    https://gist.github.com/fedhere/89db40a3c9a28335bf5a35d52a52c595"
   ]
  },
  {
   "cell_type": "markdown",
   "metadata": {
    "ExecuteTime": {
     "end_time": "2017-10-12T16:21:08.019663",
     "start_time": "2017-10-12T16:21:08.010876"
    },
    "run_control": {
     "frozen": false,
     "read_only": false
    }
   },
   "source": [
    "## Extra credit: calculate the confidence interval by hand and also plot them \n",
    "you can use pylab.fill_between(x, yfit - ci, yfit + ci, alpha=0.5)"
   ]
  },
  {
   "cell_type": "markdown",
   "metadata": {
    "run_control": {
     "frozen": false,
     "read_only": false
    }
   },
   "source": [
    "**Confidence intervals: **\n",
    "there are three type of intervals in a linear regression, plot any one of them all three if you want - how do they compare to the seaborn plot?:\n",
    "\n",
    "1) Confidence intervals for the parameters slope and intercept\n",
    "\n",
    "2) Confidence interval for the average y value\n",
    "\n",
    "3) Prediction interval for a single y value"
   ]
  },
  {
   "cell_type": "markdown",
   "metadata": {
    "run_control": {
     "frozen": false,
     "read_only": false
    }
   },
   "source": [
    "1) __confidence interval of the  model parameters slope and intercept:__\n",
    "define sigma as the sum of the residuals over the square root of number n of observations. \n",
    "\n",
    "sigma: σ̂ =sqrt(Sum((Yoberved_i−Ypredicted_i)^2)/n)\n",
    "\n",
    "where the sum is over all observations\n",
    "\n",
    "Define t_alpha/2,n-2 the t statistics at (1-alpha/2) for a t distribution with n-2 degrees of freedom (you can calculate it with scipy\n",
    "tp = sp.stats.t.ppf(0.975, n-2)\n",
    "\n"
   ]
  },
  {
   "cell_type": "code",
   "execution_count": null,
   "metadata": {
    "ExecuteTime": {
     "end_time": "2017-10-12T15:42:26.836222",
     "start_time": "2017-10-12T15:42:26.819963"
    },
    "run_control": {
     "frozen": false,
     "read_only": false
    }
   },
   "outputs": [],
   "source": [
    "#from IPython.display import Image\n",
    "#Image(filename=\"../Lab5_fb55/confidence_intervals_regression.png\")"
   ]
  },
  {
   "cell_type": "code",
   "execution_count": null,
   "metadata": {
    "ExecuteTime": {
     "end_time": "2017-10-12T15:54:20.748008",
     "start_time": "2017-10-12T15:54:20.736381"
    },
    "run_control": {
     "frozen": false,
     "read_only": false
    }
   },
   "outputs": [],
   "source": [
    "#from IPython.display import Image\n",
    "#Image(filename=\"../Lab5_fb55/confidence_intervals_regression2.png\")"
   ]
  },
  {
   "cell_type": "markdown",
   "metadata": {
    "run_control": {
     "frozen": false,
     "read_only": false
    }
   },
   "source": [
    "[proof](https://onlinecourses.science.psu.edu/stat414/node/280)"
   ]
  },
  {
   "cell_type": "markdown",
   "metadata": {
    "run_control": {
     "frozen": false,
     "read_only": false
    }
   },
   "source": [
    "2) **A confidence interval for E(y | x) , the expected (average) value of y for a given x_**\n",
    "\n",
    "define s: residual standard error sy = sqrt(Sum((y_observed-y_predicted)^2)/(n-2))\n",
    "\n",
    "(note: n-2 is the degrees of freedom of the problem: observations - number of parameters - 1)\n",
    "\n",
    "the confidence interval for a given y(x*) is: \n",
    "\n",
    "y_predicted(x*) +/- t_(alpha/2)(n-2) * sy * sqrt( 1/n + (x* - mean(x)^2) / sum((x* - mean(x)^2)"
   ]
  },
  {
   "cell_type": "code",
   "execution_count": null,
   "metadata": {
    "ExecuteTime": {
     "end_time": "2017-10-12T16:09:14.173143",
     "start_time": "2017-10-12T16:09:14.161088"
    },
    "run_control": {
     "frozen": false,
     "read_only": false
    }
   },
   "outputs": [],
   "source": [
    "#from IPython.display import Image\n",
    "#Image(filename=\"../Lab5_fb55/ciY.png\")"
   ]
  },
  {
   "cell_type": "markdown",
   "metadata": {
    "run_control": {
     "frozen": false,
     "read_only": false
    }
   },
   "source": [
    "3) **Confidence intervals for average y (predicted) values**\n",
    "\n",
    "y_predicted(x*) +/- t_(n-2) * sy * sqrt( 1 + 1/n + (x* - mean(x)^2) / sum((x* - mean(x)^2)\n",
    "\n",
    "very similar, but note the +1 in the square root"
   ]
  },
  {
   "cell_type": "code",
   "execution_count": null,
   "metadata": {
    "ExecuteTime": {
     "end_time": "2017-10-12T16:08:46.077157",
     "start_time": "2017-10-12T16:08:46.067407"
    },
    "run_control": {
     "frozen": false,
     "read_only": false
    }
   },
   "outputs": [],
   "source": [
    "#from IPython.display import Image\n",
    "#Image(filename=\"../Lab5_fb55/ciYaverage.png\")"
   ]
  },
  {
   "cell_type": "code",
   "execution_count": null,
   "metadata": {
    "ExecuteTime": {
     "end_time": "2017-10-12T16:36:39.238967",
     "start_time": "2017-10-12T16:36:38.688004"
    },
    "run_control": {
     "frozen": false,
     "read_only": false
    }
   },
   "outputs": [],
   "source": [
    "#pl.figure()\n",
    "#import seaborn  as sns\n",
    "#sns.regplot(x=\"x\", y=\"y\", data=df_);\n",
    "\n",
    "#pl.ylabel(\"Mass shootings\")\n",
    "#pl.xlabel(\"Fire arms\");"
   ]
  },
  {
   "cell_type": "markdown",
   "metadata": {
    "run_control": {
     "frozen": false,
     "read_only": false
    }
   },
   "source": [
    "## Use the stsatsmodels.gaphics package to plot the influence plot. \n",
    "Read the package documentation to learn how to read this plot and extract the countries with the highest influence\n",
    "\n",
    "This is the topic of this week's assigned reading, so make sure you do the reading before you do this step. It will help you interpret the plot."
   ]
  },
  {
   "cell_type": "code",
   "execution_count": 34,
   "metadata": {},
   "outputs": [],
   "source": [
    "df_labeled = df_.set_index('Country')"
   ]
  },
  {
   "cell_type": "code",
   "execution_count": 35,
   "metadata": {},
   "outputs": [],
   "source": [
    "smOLS = smf.ols(formula='shootings_pp ~ firearms_pp', data=df_labeled).fit()"
   ]
  },
  {
   "cell_type": "code",
   "execution_count": 36,
   "metadata": {},
   "outputs": [
    {
     "data": {
      "image/png": "[encoded data removed]",
      "text/plain": [
       "<matplotlib.figure.Figure at 0x7fc41a0f17b8>"
      ]
     },
     "metadata": {},
     "output_type": "display_data"
    },
    {
     "name": "stdout",
     "output_type": "stream",
     "text": [
      "Mass shootings vs Civilian firearms, influece plot.\n",
      "Figure 14 shows the same scatter plot as before but the size of each\n",
      "data point is how much it influences the regression result. We can see that\n",
      "the USA and New Zealand are the most influential data points, so they could be\n",
      "candidates for taking them out of the regression as outliers.\n"
     ]
    }
   ],
   "source": [
    "fig = pl.figure(figsize=(10,7)) \n",
    "ax = fig.subplots(1,1)\n",
    "\n",
    "sm.graphics.influence_plot(smOLS, alpha  = 0.05, criterion=\"cooks\", ax=ax).get_axes()\n",
    "\n",
    "ax.set_ylim()\n",
    "ax.grid(False)\n",
    "\n",
    "ax.set_title(\"Figure 14: Mass shootings vs Civilian firearms\\nInfluence plot\\n\", fontsize=13)\n",
    "ax.set_xlabel(\"Civilian firearms\", fontsize=13)\n",
    "ax.set_ylabel(\"Mass shootings\", fontsize=13)\n",
    "\n",
    "pl.show()\n",
    "print (\"Mass shootings vs Civilian firearms, influece plot.\\n\" + \n",
    "       \"Figure 14 shows the same scatter plot as before but the size of each\\n\" +\n",
    "       \"data point is how much it influences the regression result. We can see that\\n\"+\n",
    "       \"the USA and New Zealand are the most influential data points, so they could be\\n\"+\n",
    "       \"candidates for taking them out of the regression as outliers.\")"
   ]
  },
  {
   "cell_type": "markdown",
   "metadata": {
    "run_control": {
     "frozen": false,
     "read_only": false
    }
   },
   "source": [
    "## Extra credit: calculate from scratch the stanrdardized residuals and the H leverage for the WLS model and discuss if there are any differences"
   ]
  },
  {
   "cell_type": "markdown",
   "metadata": {
    "run_control": {
     "frozen": false,
     "read_only": false
    }
   },
   "source": [
    "## Discuss your findings"
   ]
  },
  {
   "cell_type": "code",
   "execution_count": null,
   "metadata": {},
   "outputs": [],
   "source": []
  }
 ],
 "metadata": {
  "anaconda-cloud": {},
  "kernelspec": {
   "display_name": "PUI2016_Python3",
   "language": "python",
   "name": "pui2016_python3"
  },
  "language_info": {
   "codemirror_mode": {
    "name": "ipython",
    "version": 3
   },
   "file_extension": ".py",
   "mimetype": "text/x-python",
   "name": "python",
   "nbconvert_exporter": "python",
   "pygments_lexer": "ipython3",
   "version": "3.5.4"
  },
  "latex_envs": {
   "LaTeX_envs_menu_present": true,
   "bibliofile": "biblio.bib",
   "cite_by": "apalike",
   "current_citInitial": 1,
   "eqLabelWithNumbers": true,
   "eqNumInitial": 1,
   "hotkeys": {
    "equation": "Ctrl-E",
    "itemize": "Ctrl-I"
   },
   "labels_anchors": false,
   "latex_user_defs": false,
   "report_style_numbering": false,
   "user_envs_cfg": false
  },
  "toc": {
   "colors": {
    "hover_highlight": "#DAA520",
    "running_highlight": "#FF0000",
    "selected_highlight": "#FFD700"
   },
   "moveMenuLeft": true,
   "nav_menu": {
    "height": "13px",
    "width": "251px"
   },
   "navigate_menu": true,
   "number_sections": true,
   "sideBar": true,
   "threshold": 4,
   "toc_cell": true,
   "toc_section_display": "block",
   "toc_window_display": true
  }
 },
 "nbformat": 4,
 "nbformat_minor": 1
}
