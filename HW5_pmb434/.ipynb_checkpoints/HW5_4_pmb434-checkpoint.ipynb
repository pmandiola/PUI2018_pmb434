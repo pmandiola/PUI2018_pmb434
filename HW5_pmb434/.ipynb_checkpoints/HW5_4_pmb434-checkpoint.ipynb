{
 "cells": [
  {
   "cell_type": "code",
   "execution_count": 1,
   "metadata": {},
   "outputs": [
    {
     "name": "stdout",
     "output_type": "stream",
     "text": [
      "Populating the interactive namespace from numpy and matplotlib\n"
     ]
    },
    {
     "name": "stderr",
     "output_type": "stream",
     "text": [
      "/opt/conda/envs/PUI2016_Python3/lib/python3.5/site-packages/IPython/html.py:14: ShimWarning: The `IPython.html` package has been deprecated. You should import from `notebook` instead. `IPython.html.widgets` has moved to `ipywidgets`.\n",
      "  \"`IPython.html.widgets` has moved to `ipywidgets`.\", ShimWarning)\n"
     ]
    }
   ],
   "source": [
    "from __future__  import print_function, division\n",
    "import pylab as pl\n",
    "import pandas as pd\n",
    "import seaborn\n",
    "import numpy as np\n",
    "import scipy.stats\n",
    "import os\n",
    "\n",
    "%pylab inline\n",
    "    \n",
    "puidata = os.getenv(\"PUIDATA\")\n",
    "if puidata is None:\n",
    "    os.environ[\"PUIDATA\"] = \"{}/data/PUIdata\".format(os.getenv(\"HOME\"))\n",
    "    puidata = os.getenv(\"PUIDATA\")"
   ]
  },
  {
   "cell_type": "code",
   "execution_count": 2,
   "metadata": {},
   "outputs": [],
   "source": [
    "#Function for downloading data\n",
    "def getCitiBikeCSV(datestring):\n",
    "    #Check file\n",
    "    if not os.path.isfile(puidata + \"/\" + datestring + \"-citibike-tripdata.csv\"):\n",
    "        #Check zip\n",
    "        if not os.path.isfile(puidata + \"/\" + datestring + \"-citibike-tripdata.zip\"):\n",
    "            #Download zip and move to puidata\n",
    "            print (\"Downloading file\") \n",
    "            os.system(\"curl -O https://s3.amazonaws.com/tripdata/\" + datestring + \"-citibike-tripdata.zip\")\n",
    "            os.system(\"mv \" + datestring + \"-citibike-tripdata.zip \" + puidata)\n",
    "        # Unzip and move to puidata\n",
    "        print (\"Unzipping file\") \n",
    "        os.system(\"unzip \" + puidata + \"/\" + datestring + \"-citibike-tripdata.zip\")\n",
    "        os.system(\"mv \" + datestring + \"-citibike-tripdata.csv \" + puidata)\n",
    "\n",
    "    # Check:\n",
    "    if not os.path.isfile(puidata + \"/\" + datestring + \"-citibike-tripdata.csv\"):\n",
    "        print (\"WARNING!!! Something is wrong: the file is not there!\")\n",
    "\n",
    "    else:\n",
    "        print (\"File in place, you can continue\")"
   ]
  },
  {
   "cell_type": "code",
   "execution_count": 3,
   "metadata": {},
   "outputs": [
    {
     "name": "stdout",
     "output_type": "stream",
     "text": [
      "File in place, you can continue\n",
      "File in place, you can continue\n"
     ]
    }
   ],
   "source": [
    "#Define 2 months, one in summer and one in winter\n",
    "jan2015 = '201501'\n",
    "aug2015 = '201508'\n",
    "\n",
    "#Download the data\n",
    "getCitiBikeCSV(jan2015)\n",
    "getCitiBikeCSV(aug2015)"
   ]
  },
  {
   "cell_type": "code",
   "execution_count": 58,
   "metadata": {
    "scrolled": false
   },
   "outputs": [],
   "source": [
    "#Read first month\n",
    "df = pd.read_csv(puidata + \"/\" + jan2015 + '-citibike-tripdata.csv')\n",
    "\n",
    "#Append second month\n",
    "df = df.append(pd.read_csv(puidata + \"/\" + aug2015 + '-citibike-tripdata.csv'), ignore_index=True)"
   ]
  },
  {
   "cell_type": "code",
   "execution_count": 59,
   "metadata": {},
   "outputs": [
    {
     "data": {
      "text/html": [
       "<div>\n",
       "<table border=\"1\" class=\"dataframe\">\n",
       "  <thead>\n",
       "    <tr style=\"text-align: right;\">\n",
       "      <th></th>\n",
       "      <th>tripduration</th>\n",
       "      <th>starttime</th>\n",
       "      <th>stoptime</th>\n",
       "      <th>start station id</th>\n",
       "      <th>start station name</th>\n",
       "      <th>start station latitude</th>\n",
       "      <th>start station longitude</th>\n",
       "      <th>end station id</th>\n",
       "      <th>end station name</th>\n",
       "      <th>end station latitude</th>\n",
       "      <th>end station longitude</th>\n",
       "      <th>bikeid</th>\n",
       "      <th>usertype</th>\n",
       "      <th>birth year</th>\n",
       "      <th>gender</th>\n",
       "    </tr>\n",
       "  </thead>\n",
       "  <tbody>\n",
       "    <tr>\n",
       "      <th>0</th>\n",
       "      <td>1346</td>\n",
       "      <td>1/1/2015 0:01</td>\n",
       "      <td>1/1/2015 0:24</td>\n",
       "      <td>455</td>\n",
       "      <td>1 Ave &amp; E 44 St</td>\n",
       "      <td>40.750020</td>\n",
       "      <td>-73.969053</td>\n",
       "      <td>265</td>\n",
       "      <td>Stanton St &amp; Chrystie St</td>\n",
       "      <td>40.722293</td>\n",
       "      <td>-73.991475</td>\n",
       "      <td>18660</td>\n",
       "      <td>Subscriber</td>\n",
       "      <td>1960.0</td>\n",
       "      <td>2</td>\n",
       "    </tr>\n",
       "    <tr>\n",
       "      <th>1</th>\n",
       "      <td>363</td>\n",
       "      <td>1/1/2015 0:02</td>\n",
       "      <td>1/1/2015 0:08</td>\n",
       "      <td>434</td>\n",
       "      <td>9 Ave &amp; W 18 St</td>\n",
       "      <td>40.743174</td>\n",
       "      <td>-74.003664</td>\n",
       "      <td>482</td>\n",
       "      <td>W 15 St &amp; 7 Ave</td>\n",
       "      <td>40.739355</td>\n",
       "      <td>-73.999318</td>\n",
       "      <td>16085</td>\n",
       "      <td>Subscriber</td>\n",
       "      <td>1963.0</td>\n",
       "      <td>1</td>\n",
       "    </tr>\n",
       "    <tr>\n",
       "      <th>2</th>\n",
       "      <td>346</td>\n",
       "      <td>1/1/2015 0:04</td>\n",
       "      <td>1/1/2015 0:10</td>\n",
       "      <td>491</td>\n",
       "      <td>E 24 St &amp; Park Ave S</td>\n",
       "      <td>40.740964</td>\n",
       "      <td>-73.986022</td>\n",
       "      <td>505</td>\n",
       "      <td>6 Ave &amp; W 33 St</td>\n",
       "      <td>40.749013</td>\n",
       "      <td>-73.988484</td>\n",
       "      <td>20845</td>\n",
       "      <td>Subscriber</td>\n",
       "      <td>1974.0</td>\n",
       "      <td>1</td>\n",
       "    </tr>\n",
       "    <tr>\n",
       "      <th>3</th>\n",
       "      <td>182</td>\n",
       "      <td>1/1/2015 0:04</td>\n",
       "      <td>1/1/2015 0:07</td>\n",
       "      <td>384</td>\n",
       "      <td>Fulton St &amp; Waverly Ave</td>\n",
       "      <td>40.683178</td>\n",
       "      <td>-73.965964</td>\n",
       "      <td>399</td>\n",
       "      <td>Lafayette Ave &amp; St James Pl</td>\n",
       "      <td>40.688515</td>\n",
       "      <td>-73.964763</td>\n",
       "      <td>19610</td>\n",
       "      <td>Subscriber</td>\n",
       "      <td>1969.0</td>\n",
       "      <td>1</td>\n",
       "    </tr>\n",
       "    <tr>\n",
       "      <th>4</th>\n",
       "      <td>969</td>\n",
       "      <td>1/1/2015 0:05</td>\n",
       "      <td>1/1/2015 0:21</td>\n",
       "      <td>474</td>\n",
       "      <td>5 Ave &amp; E 29 St</td>\n",
       "      <td>40.745168</td>\n",
       "      <td>-73.986831</td>\n",
       "      <td>432</td>\n",
       "      <td>E 7 St &amp; Avenue A</td>\n",
       "      <td>40.726218</td>\n",
       "      <td>-73.983799</td>\n",
       "      <td>20197</td>\n",
       "      <td>Subscriber</td>\n",
       "      <td>1977.0</td>\n",
       "      <td>1</td>\n",
       "    </tr>\n",
       "  </tbody>\n",
       "</table>\n",
       "</div>"
      ],
      "text/plain": [
       "   tripduration      starttime       stoptime  start station id  \\\n",
       "0          1346  1/1/2015 0:01  1/1/2015 0:24               455   \n",
       "1           363  1/1/2015 0:02  1/1/2015 0:08               434   \n",
       "2           346  1/1/2015 0:04  1/1/2015 0:10               491   \n",
       "3           182  1/1/2015 0:04  1/1/2015 0:07               384   \n",
       "4           969  1/1/2015 0:05  1/1/2015 0:21               474   \n",
       "\n",
       "        start station name  start station latitude  start station longitude  \\\n",
       "0          1 Ave & E 44 St               40.750020               -73.969053   \n",
       "1          9 Ave & W 18 St               40.743174               -74.003664   \n",
       "2     E 24 St & Park Ave S               40.740964               -73.986022   \n",
       "3  Fulton St & Waverly Ave               40.683178               -73.965964   \n",
       "4          5 Ave & E 29 St               40.745168               -73.986831   \n",
       "\n",
       "   end station id             end station name  end station latitude  \\\n",
       "0             265     Stanton St & Chrystie St             40.722293   \n",
       "1             482              W 15 St & 7 Ave             40.739355   \n",
       "2             505              6 Ave & W 33 St             40.749013   \n",
       "3             399  Lafayette Ave & St James Pl             40.688515   \n",
       "4             432            E 7 St & Avenue A             40.726218   \n",
       "\n",
       "   end station longitude  bikeid    usertype  birth year  gender  \n",
       "0             -73.991475   18660  Subscriber      1960.0       2  \n",
       "1             -73.999318   16085  Subscriber      1963.0       1  \n",
       "2             -73.988484   20845  Subscriber      1974.0       1  \n",
       "3             -73.964763   19610  Subscriber      1969.0       1  \n",
       "4             -73.983799   20197  Subscriber      1977.0       1  "
      ]
     },
     "execution_count": 59,
     "metadata": {},
     "output_type": "execute_result"
    }
   ],
   "source": [
    "df.head()"
   ]
  },
  {
   "cell_type": "code",
   "execution_count": 60,
   "metadata": {},
   "outputs": [],
   "source": [
    "#Convert starttime to datetime\n",
    "df['starttime_converted'] = pd.to_datetime(df['starttime'], infer_datetime_format=True)"
   ]
  },
  {
   "cell_type": "markdown",
   "metadata": {},
   "source": [
    "### Hypothesis testing: Trip duration day vs night\n",
    "\n",
    "$H_0$: There is no statistical difference in the trip durations between day and night rides, with a significance level of 0.05"
   ]
  },
  {
   "cell_type": "markdown",
   "metadata": {},
   "source": [
    "To split trips between day and night I will use the starting time of the ride. If it was between sunrise and sunset it is classified as day and if not it is classified as night.\n",
    "\n",
    "Each day has different sunrise and sunset times, but for simplification I will use the first day of the month.\n",
    "\n",
    "From https://www.timeanddate.com this times are:\n",
    "\n",
    "January 2015\n",
    "\n",
    "    Sunrise 7:20 am\n",
    "    Sunset 4:39 pm\n",
    "\n",
    "August 2015\n",
    "\n",
    "    Sunrise 5:52 am\n",
    "    Sunset 8:11 pm"
   ]
  },
  {
   "cell_type": "code",
   "execution_count": 61,
   "metadata": {},
   "outputs": [],
   "source": [
    "#Setting the datetimes\n",
    "jan2015_sunrise = pd.Timestamp('2015-01-01 07:20')\n",
    "jan2015_sunset = pd.Timestamp('2015-01-01 16:39')\n",
    "aug2015_sunrise = pd.Timestamp('2015-08-01 05:52')\n",
    "aug2015_sunset = pd.Timestamp('2015-08-01 20:11')"
   ]
  },
  {
   "cell_type": "code",
   "execution_count": 62,
   "metadata": {},
   "outputs": [],
   "source": [
    "#Classify rows\n",
    "df['day_or_night'] = ((df['starttime_converted'].dt.month == jan2015_sunrise.month) & \\\n",
    "                        (df['starttime_converted'].apply(lambda x: x.time()) > jan2015_sunrise.time()) & \\\n",
    "                        (df['starttime_converted'].apply(lambda x: x.time()) < jan2015_sunset.time())) | \\\n",
    "                        ((df['starttime_converted'].dt.month == aug2015_sunrise.month) & \\\n",
    "                        (df['starttime_converted'].apply(lambda x: x.time()) > aug2015_sunrise.time()) & \\\n",
    "                        (df['starttime_converted'].apply(lambda x: x.time()) < aug2015_sunset.time()))\n",
    "\n",
    "df['day_or_night'] = df['day_or_night'].replace({True:'day', False:'night'})"
   ]
  },
  {
   "cell_type": "code",
   "execution_count": 63,
   "metadata": {},
   "outputs": [
    {
     "data": {
      "text/plain": [
       "day      1165900\n",
       "night     298696\n",
       "Name: day_or_night, dtype: int64"
      ]
     },
     "execution_count": 63,
     "metadata": {},
     "output_type": "execute_result"
    }
   ],
   "source": [
    "df.day_or_night.value_counts()"
   ]
  },
  {
   "cell_type": "code",
   "execution_count": 64,
   "metadata": {},
   "outputs": [],
   "source": [
    "#Dropping data I don't need\n",
    "df = df.loc[:,['tripduration','day_or_night','starttime_converted']]"
   ]
  },
  {
   "cell_type": "code",
   "execution_count": 65,
   "metadata": {},
   "outputs": [
    {
     "data": {
      "text/html": [
       "<div>\n",
       "<table border=\"1\" class=\"dataframe\">\n",
       "  <thead>\n",
       "    <tr style=\"text-align: right;\">\n",
       "      <th></th>\n",
       "      <th>tripduration</th>\n",
       "      <th>day_or_night</th>\n",
       "      <th>starttime_converted</th>\n",
       "    </tr>\n",
       "  </thead>\n",
       "  <tbody>\n",
       "    <tr>\n",
       "      <th>0</th>\n",
       "      <td>1346</td>\n",
       "      <td>night</td>\n",
       "      <td>2015-01-01 00:01:00</td>\n",
       "    </tr>\n",
       "    <tr>\n",
       "      <th>1</th>\n",
       "      <td>363</td>\n",
       "      <td>night</td>\n",
       "      <td>2015-01-01 00:02:00</td>\n",
       "    </tr>\n",
       "    <tr>\n",
       "      <th>2</th>\n",
       "      <td>346</td>\n",
       "      <td>night</td>\n",
       "      <td>2015-01-01 00:04:00</td>\n",
       "    </tr>\n",
       "    <tr>\n",
       "      <th>3</th>\n",
       "      <td>182</td>\n",
       "      <td>night</td>\n",
       "      <td>2015-01-01 00:04:00</td>\n",
       "    </tr>\n",
       "    <tr>\n",
       "      <th>4</th>\n",
       "      <td>969</td>\n",
       "      <td>night</td>\n",
       "      <td>2015-01-01 00:05:00</td>\n",
       "    </tr>\n",
       "  </tbody>\n",
       "</table>\n",
       "</div>"
      ],
      "text/plain": [
       "   tripduration day_or_night starttime_converted\n",
       "0          1346        night 2015-01-01 00:01:00\n",
       "1           363        night 2015-01-01 00:02:00\n",
       "2           346        night 2015-01-01 00:04:00\n",
       "3           182        night 2015-01-01 00:04:00\n",
       "4           969        night 2015-01-01 00:05:00"
      ]
     },
     "execution_count": 65,
     "metadata": {},
     "output_type": "execute_result"
    }
   ],
   "source": [
    "df.head()"
   ]
  },
  {
   "cell_type": "code",
   "execution_count": 66,
   "metadata": {},
   "outputs": [],
   "source": [
    "#tripduration is in seconds, let's transform it to minutes\n",
    "df['tripduration_minutes'] = df['tripduration']/60"
   ]
  },
  {
   "cell_type": "code",
   "execution_count": 67,
   "metadata": {},
   "outputs": [
    {
     "data": {
      "text/plain": [
       "tripduration            0\n",
       "day_or_night            0\n",
       "starttime_converted     0\n",
       "tripduration_minutes    0\n",
       "dtype: int64"
      ]
     },
     "execution_count": 67,
     "metadata": {},
     "output_type": "execute_result"
    }
   ],
   "source": [
    "#Lets see if we have any NaNs\n",
    "df.isnull().sum()"
   ]
  },
  {
   "cell_type": "code",
   "execution_count": 68,
   "metadata": {},
   "outputs": [
    {
     "data": {
      "text/html": [
       "<div>\n",
       "<table border=\"1\" class=\"dataframe\">\n",
       "  <thead>\n",
       "    <tr style=\"text-align: right;\">\n",
       "      <th></th>\n",
       "      <th>tripduration</th>\n",
       "      <th>tripduration_minutes</th>\n",
       "    </tr>\n",
       "  </thead>\n",
       "  <tbody>\n",
       "    <tr>\n",
       "      <th>count</th>\n",
       "      <td>1.464596e+06</td>\n",
       "      <td>1.464596e+06</td>\n",
       "    </tr>\n",
       "    <tr>\n",
       "      <th>mean</th>\n",
       "      <td>9.466748e+02</td>\n",
       "      <td>1.577791e+01</td>\n",
       "    </tr>\n",
       "    <tr>\n",
       "      <th>std</th>\n",
       "      <td>7.029916e+03</td>\n",
       "      <td>1.171653e+02</td>\n",
       "    </tr>\n",
       "    <tr>\n",
       "      <th>min</th>\n",
       "      <td>6.000000e+01</td>\n",
       "      <td>1.000000e+00</td>\n",
       "    </tr>\n",
       "    <tr>\n",
       "      <th>25%</th>\n",
       "      <td>3.940000e+02</td>\n",
       "      <td>6.566667e+00</td>\n",
       "    </tr>\n",
       "    <tr>\n",
       "      <th>50%</th>\n",
       "      <td>6.360000e+02</td>\n",
       "      <td>1.060000e+01</td>\n",
       "    </tr>\n",
       "    <tr>\n",
       "      <th>75%</th>\n",
       "      <td>1.068000e+03</td>\n",
       "      <td>1.780000e+01</td>\n",
       "    </tr>\n",
       "    <tr>\n",
       "      <th>max</th>\n",
       "      <td>2.842280e+06</td>\n",
       "      <td>4.737133e+04</td>\n",
       "    </tr>\n",
       "  </tbody>\n",
       "</table>\n",
       "</div>"
      ],
      "text/plain": [
       "       tripduration  tripduration_minutes\n",
       "count  1.464596e+06          1.464596e+06\n",
       "mean   9.466748e+02          1.577791e+01\n",
       "std    7.029916e+03          1.171653e+02\n",
       "min    6.000000e+01          1.000000e+00\n",
       "25%    3.940000e+02          6.566667e+00\n",
       "50%    6.360000e+02          1.060000e+01\n",
       "75%    1.068000e+03          1.780000e+01\n",
       "max    2.842280e+06          4.737133e+04"
      ]
     },
     "execution_count": 68,
     "metadata": {},
     "output_type": "execute_result"
    }
   ],
   "source": [
    "df.describe()"
   ]
  },
  {
   "cell_type": "code",
   "execution_count": 69,
   "metadata": {},
   "outputs": [
    {
     "name": "stderr",
     "output_type": "stream",
     "text": [
      "/opt/conda/envs/PUI2016_Python3/lib/python3.5/site-packages/matplotlib/font_manager.py:1316: UserWarning: findfont: Font family ['sans-serif'] not found. Falling back to DejaVu Sans\n",
      "  (prop.get_family(), self.defaultFamily[fontext]))\n"
     ]
    },
    {
     "data": {
      "image/png": "[encoded data removed]",
      "text/plain": [
       "<matplotlib.figure.Figure at 0x7f3bcf408710>"
      ]
     },
     "metadata": {},
     "output_type": "display_data"
    },
    {
     "data": {
      "image/png": "[encoded data removed]",
      "text/plain": [
       "<matplotlib.figure.Figure at 0x7f3bce38e898>"
      ]
     },
     "metadata": {},
     "output_type": "display_data"
    }
   ],
   "source": [
    "# Histogram Plots\n",
    "bins = np.arange(0, 59, 5)\n",
    "\n",
    "axD = df[df['day_or_night'] == 'day'].tripduration.groupby(pd.cut(df[df['day_or_night'] == 'day'].tripduration_minutes, bins)).agg([count_nonzero]).plot(kind='bar', \n",
    "                                                                legend=False)\n",
    "axD.set_title(\"Day riders\")\n",
    "axD.set_xlabel(\"Trip Duration (minutes)\")\n",
    "axD.set_ylabel(\"Number of rides\")\n",
    "\n",
    "axN = df[df['day_or_night'] == 'night'].tripduration.groupby(pd.cut(df[df['day_or_night'] == 'night'].tripduration_minutes, bins)).agg([count_nonzero]).plot(kind='bar',\n",
    "                                                                legend=False)\n",
    "axN.set_title(\"Night riders\")\n",
    "axN.set_xlabel(\"Trip Duration (minutes)\")\n",
    "axN.set_ylabel(\"Number of rides\")\n",
    "\n",
    "pl.show()"
   ]
  },
  {
   "cell_type": "markdown",
   "metadata": {},
   "source": [
    "**Figure 1: Histogram with the distribution of trip durations by day and night.** This histograms show that the distribution of trip durations between day and night is fairly similar in shape, but night rides are have proportionally lower longer rides."
   ]
  },
  {
   "cell_type": "code",
   "execution_count": 70,
   "metadata": {},
   "outputs": [
    {
     "name": "stdout",
     "output_type": "stream",
     "text": [
      "                      count_nonzero\n",
      "tripduration_minutes               \n",
      "(0, 5]                     0.025685\n",
      "(5, 10]                    0.054223\n",
      "(10, 15]                   0.058098\n",
      "(15, 20]                   0.049334\n",
      "(20, 25]                   0.034567\n",
      "(25, 30]                   0.021064\n",
      "(30, 35]                   0.012553\n",
      "(35, 40]                   0.008015\n",
      "(40, 45]                   0.004140\n",
      "(45, 50]                   0.002026\n",
      "(50, 55]                   0.000000\n"
     ]
    },
    {
     "name": "stderr",
     "output_type": "stream",
     "text": [
      "/opt/conda/envs/PUI2016_Python3/lib/python3.5/site-packages/matplotlib/font_manager.py:1316: UserWarning: findfont: Font family ['sans-serif'] not found. Falling back to DejaVu Sans\n",
      "  (prop.get_family(), self.defaultFamily[fontext]))\n"
     ]
    },
    {
     "data": {
      "image/png": "[encoded data removed]",
      "text/plain": [
       "<matplotlib.figure.Figure at 0x7f3bcf44d0f0>"
      ]
     },
     "metadata": {},
     "output_type": "display_data"
    }
   ],
   "source": [
    "csD=df[df['day_or_night'] == 'day'].tripduration.groupby(pd.cut(df[df['day_or_night'] == 'day'].tripduration_minutes, bins)).agg([count_nonzero]).cumsum()\n",
    "\n",
    "csN=df[df['day_or_night'] == 'night'].tripduration.groupby(pd.cut(df[df['day_or_night'] == 'night'].tripduration_minutes, bins)).agg([count_nonzero]).cumsum()\n",
    "\n",
    "print (np.abs(csD / csD.max()-csN / csN.max()))\n",
    "\n",
    "pl.plot(bins[:-1] + 5, csD / csD.max(), label = \"Day\")\n",
    "pl.plot(bins[:-1] + 5, csN / csN.max(), label = \"Night\")\n",
    "pl.plot(bins[:-1] + 5, np.sqrt(csN / csN.max() - csD / csD.max())**2, 'k-',\n",
    "        label = \"Difference\")\n",
    "pl.xlabel(\"Trip Duration\")\n",
    "pl.ylabel(\"Normalized Cumulative Number\")\n",
    "pl.title(\"Cumulative Distribution of trip durations, by day and night\")\n",
    "pl.legend()\n",
    "pl.show()"
   ]
  },
  {
   "cell_type": "markdown",
   "metadata": {},
   "source": [
    "**Figure 2: Cummulative distribution of trip durations, by day and night.** This graph again shows that the normalized cummulative distribution of night trips gets higher than that of day trips, up to around 6-7%. "
   ]
  },
  {
   "cell_type": "markdown",
   "metadata": {},
   "source": [
    "### KS tests to compare 2 samples"
   ]
  },
  {
   "cell_type": "code",
   "execution_count": 71,
   "metadata": {},
   "outputs": [
    {
     "data": {
      "text/plain": [
       "Ks_2sampResult(statistic=0.064557720983361766, pvalue=0.0)"
      ]
     },
     "execution_count": 71,
     "metadata": {},
     "output_type": "execute_result"
    }
   ],
   "source": [
    "#Run the ks test\n",
    "scipy.stats.ks_2samp(df[df['day_or_night'] == 'day'].tripduration, df[df['day_or_night'] == 'night'].tripduration)"
   ]
  },
  {
   "cell_type": "markdown",
   "metadata": {},
   "source": [
    "We get a p-value < 0.05, so we can reject our null hypothesis. This means that, at a significance level of 0.05, the two samples come from a different distribution. The distribution of trip durations during the night are different than those during the day."
   ]
  },
  {
   "cell_type": "markdown",
   "metadata": {},
   "source": [
    "#### Now with only 200 datapoints from each sample"
   ]
  },
  {
   "cell_type": "code",
   "execution_count": 78,
   "metadata": {},
   "outputs": [],
   "source": [
    "#Let's set the seed for reproductibility\n",
    "np.random.seed(99)\n",
    "\n",
    "#Let's draw the samples\n",
    "day_sample = np.random.choice(df[df['day_or_night'] == 'day'].tripduration, size=200, replace=False)\n",
    "night_sample = np.random.choice(df[df['day_or_night'] == 'night'].tripduration, size=200, replace=False)"
   ]
  },
  {
   "cell_type": "code",
   "execution_count": 79,
   "metadata": {},
   "outputs": [
    {
     "data": {
      "text/plain": [
       "Ks_2sampResult(statistic=0.08500000000000002, pvalue=0.44856216357893425)"
      ]
     },
     "execution_count": 79,
     "metadata": {},
     "output_type": "execute_result"
    }
   ],
   "source": [
    "#Run the ks test again on the smaller samples\n",
    "scipy.stats.ks_2samp(day_sample, night_sample)"
   ]
  },
  {
   "cell_type": "markdown",
   "metadata": {},
   "source": [
    "Now get a p-value > 0.05, so we can't reject our null hypothesis. This means that, at a significance level of 0.05, we can't reject that the two samples come from the same distribution.\n",
    "\n",
    "It makes sense that we are having more difficulty rejecting the null hypothesis, because we are now using way smaller samples than before. For the KS test, now it can't recognize that the two samples come from a different distribution."
   ]
  },
  {
   "cell_type": "markdown",
   "metadata": {},
   "source": [
    "### Pearson's test for correlation\n",
    "\n",
    "Pearson (and Spearman's) are test to see if two samples are correlated. It does the comparison pairwise, so we have to sort our samples in some way that makes sense.\n",
    "\n",
    "I decided to sort the trips by time during the day (or night), so the pairs would be the first trip in the night with the first trip in the day, and then the second, third, and so on.\n",
    "\n",
    "The Null Hypothesis for this tests would be:\n",
    "\n",
    "$H_0$: The trip durations along the day are not correlated with the trip durations along the night, with significance 0.05."
   ]
  },
  {
   "cell_type": "code",
   "execution_count": 80,
   "metadata": {},
   "outputs": [],
   "source": [
    "#We need to first get the samples.\n",
    "#Here I'm using getting a sample of the dataframe, so then I can sort the rows by other columns than trip duration\n",
    "day_sample = df[df['day_or_night'] == 'day'].sample(n=200, replace=False)\n",
    "night_sample = df[df['day_or_night'] == 'night'].sample(n=200, replace=False)"
   ]
  },
  {
   "cell_type": "code",
   "execution_count": 86,
   "metadata": {},
   "outputs": [],
   "source": [
    "#I'm going to sort by time during the day to run the correlation, so we get the time from the starttime column\n",
    "day_sample['time'] = day_sample['starttime_converted'].apply(lambda x: x.time())\n",
    "night_sample['time'] = night_sample['starttime_converted'].apply(lambda x: x.time())"
   ]
  },
  {
   "cell_type": "code",
   "execution_count": 88,
   "metadata": {},
   "outputs": [],
   "source": [
    "#Sort the rows\n",
    "day_sample.sort_values(by='time',inplace=True)\n",
    "night_sample.sort_values(by='time',inplace=True)"
   ]
  },
  {
   "cell_type": "code",
   "execution_count": 89,
   "metadata": {},
   "outputs": [
    {
     "data": {
      "text/plain": [
       "(-0.013200914409520377, 0.85281568182757184)"
      ]
     },
     "execution_count": 89,
     "metadata": {},
     "output_type": "execute_result"
    }
   ],
   "source": [
    "#Run Pearson's test\n",
    "scipy.stats.pearsonr(day_sample.tripduration, night_sample.tripduration)"
   ]
  },
  {
   "cell_type": "markdown",
   "metadata": {},
   "source": [
    "We get a correlation very close to 0. Also our p-value is (much) higher than 0.05, so we are unable to reject the null hypothesis."
   ]
  },
  {
   "cell_type": "markdown",
   "metadata": {},
   "source": [
    "### Spearman's test for correlation"
   ]
  },
  {
   "cell_type": "code",
   "execution_count": 91,
   "metadata": {},
   "outputs": [
    {
     "data": {
      "text/plain": [
       "SpearmanrResult(correlation=-0.070039980094453794, pvalue=0.32437010117186582)"
      ]
     },
     "execution_count": 91,
     "metadata": {},
     "output_type": "execute_result"
    }
   ],
   "source": [
    "#Run Spearman's test\n",
    "scipy.stats.spearmanr(day_sample.tripduration, night_sample.tripduration)"
   ]
  },
  {
   "cell_type": "markdown",
   "metadata": {},
   "source": [
    "Again, we get a correlation very close to 0. Also our p-value is higher than 0.05, so we are unable to reject the null hypothesis."
   ]
  },
  {
   "cell_type": "markdown",
   "metadata": {},
   "source": [
    "There isn't much evidence to think that the trip durations along the day would be correlated with the trip durations along the day, so it makes sense that we got these results."
   ]
  }
 ],
 "metadata": {
  "kernelspec": {
   "display_name": "PUI2016_Python3",
   "language": "python",
   "name": "pui2016_python3"
  },
  "language_info": {
   "codemirror_mode": {
    "name": "ipython",
    "version": 3
   },
   "file_extension": ".py",
   "mimetype": "text/x-python",
   "name": "python",
   "nbconvert_exporter": "python",
   "pygments_lexer": "ipython3",
   "version": "3.5.4"
  }
 },
 "nbformat": 4,
 "nbformat_minor": 2
}
