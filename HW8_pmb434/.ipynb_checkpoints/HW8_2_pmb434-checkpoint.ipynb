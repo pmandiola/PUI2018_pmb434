{
 "cells": [
  {
   "cell_type": "code",
   "execution_count": 2,
   "metadata": {},
   "outputs": [
    {
     "name": "stdout",
     "output_type": "stream",
     "text": [
      "Populating the interactive namespace from numpy and matplotlib\n"
     ]
    },
    {
     "name": "stderr",
     "output_type": "stream",
     "text": [
      "/opt/conda/envs/PUI2016_Python3/lib/python3.5/site-packages/IPython/html.py:14: ShimWarning: The `IPython.html` package has been deprecated. You should import from `notebook` instead. `IPython.html.widgets` has moved to `ipywidgets`.\n",
      "  \"`IPython.html.widgets` has moved to `ipywidgets`.\", ShimWarning)\n"
     ]
    }
   ],
   "source": [
    "from __future__  import print_function, division\n",
    "import pylab as pl\n",
    "import pandas as pd\n",
    "import seaborn\n",
    "import numpy as np\n",
    "import os\n",
    "\n",
    "import statsmodels as sms\n",
    "from statsmodels.stats import weightstats\n",
    "\n",
    "%pylab inline\n",
    "    \n",
    "puidata = os.getenv(\"PUIDATA\")\n",
    "if puidata is None:\n",
    "    os.environ[\"PUIDATA\"] = \"{}/data/PUIdata\".format(os.getenv(\"HOME\"))\n",
    "    puidata = os.getenv(\"PUIDATA\")"
   ]
  },
  {
   "cell_type": "markdown",
   "metadata": {},
   "source": [
    "### Hypothesis to test"
   ]
  },
  {
   "cell_type": "markdown",
   "metadata": {},
   "source": [
    "Idea: Tourists do longer trips than New Yorkers in CitiBikes. Because tourists are visiting and exploring the city, while New Yorkers use them mostly for commuting, their trips should be longer.\n",
    "\n",
    "Null and Alternative Hypothesis in words,\n",
    "\n",
    "$H_0$: Tourists trips on CitiBike are on average shorter or equal than New Yorkers trips, with a significance level of 0.05\n",
    "\n",
    "$H_a$: Tourists trips on CitiBike are on average longer than New Yorkers trips\n",
    "\n",
    "Null and Alternative Hypothesis in formula,\n",
    "\n",
    "$H_0$: $T_{tourists} <= T_{newyorkers}$\n",
    "\n",
    "$H_a$: $T_{tourists} > T_{newyorkers}$"
   ]
  },
  {
   "cell_type": "markdown",
   "metadata": {},
   "source": [
    "### Download the data or skip if its already downloaded"
   ]
  },
  {
   "cell_type": "code",
   "execution_count": 3,
   "metadata": {},
   "outputs": [
    {
     "name": "stdout",
     "output_type": "stream",
     "text": [
      "File in place, you can continue\n"
     ]
    }
   ],
   "source": [
    "datestring = '201612'\n",
    "\n",
    "#Check file\n",
    "if not os.path.isfile(puidata + \"/\" + datestring + \"-citibike-tripdata.csv\"):\n",
    "    #Check zip\n",
    "    if not os.path.isfile(puidata + \"/\" + datestring + \"-citibike-tripdata.zip\"):\n",
    "        #Download zip and move to puidata\n",
    "        print (\"Downloading file\") \n",
    "        os.system(\"curl -O https://s3.amazonaws.com/tripdata/\" + datestring + \"-citibike-tripdata.zip\")\n",
    "        os.system(\"mv \" + datestring + \"-citibike-tripdata.zip \" + puidata)\n",
    "    # Unzip and move to puidata\n",
    "    print (\"Unzipping file\") \n",
    "    os.system(\"unzip \" + puidata + \"/\" + datestring + \"-citibike-tripdata.zip\")\n",
    "    os.system(\"mv \" + datestring + \"-citibike-tripdata.csv \" + puidata)\n",
    "    \n",
    "# Check:\n",
    "if not os.path.isfile(puidata + \"/\" + datestring + \"-citibike-tripdata.csv\"):\n",
    "    print (\"WARNING!!! Something is wrong: the file is not there!\")\n",
    "\n",
    "else:\n",
    "    print (\"File in place, you can continue\")"
   ]
  },
  {
   "cell_type": "markdown",
   "metadata": {},
   "source": [
    "### Read data to Pandas"
   ]
  },
  {
   "cell_type": "code",
   "execution_count": 4,
   "metadata": {},
   "outputs": [
    {
     "data": {
      "text/html": [
       "<div>\n",
       "<table border=\"1\" class=\"dataframe\">\n",
       "  <thead>\n",
       "    <tr style=\"text-align: right;\">\n",
       "      <th></th>\n",
       "      <th>Trip Duration</th>\n",
       "      <th>Start Time</th>\n",
       "      <th>Stop Time</th>\n",
       "      <th>Start Station ID</th>\n",
       "      <th>Start Station Name</th>\n",
       "      <th>Start Station Latitude</th>\n",
       "      <th>Start Station Longitude</th>\n",
       "      <th>End Station ID</th>\n",
       "      <th>End Station Name</th>\n",
       "      <th>End Station Latitude</th>\n",
       "      <th>End Station Longitude</th>\n",
       "      <th>Bike ID</th>\n",
       "      <th>User Type</th>\n",
       "      <th>Birth Year</th>\n",
       "      <th>Gender</th>\n",
       "    </tr>\n",
       "  </thead>\n",
       "  <tbody>\n",
       "    <tr>\n",
       "      <th>0</th>\n",
       "      <td>528</td>\n",
       "      <td>2016-12-01 00:00:04</td>\n",
       "      <td>2016-12-01 00:08:52</td>\n",
       "      <td>499</td>\n",
       "      <td>Broadway &amp; W 60 St</td>\n",
       "      <td>40.769155</td>\n",
       "      <td>-73.981918</td>\n",
       "      <td>228</td>\n",
       "      <td>E 48 St &amp; 3 Ave</td>\n",
       "      <td>40.754601</td>\n",
       "      <td>-73.971879</td>\n",
       "      <td>26931</td>\n",
       "      <td>Subscriber</td>\n",
       "      <td>1964.0</td>\n",
       "      <td>1</td>\n",
       "    </tr>\n",
       "    <tr>\n",
       "      <th>1</th>\n",
       "      <td>218</td>\n",
       "      <td>2016-12-01 00:00:28</td>\n",
       "      <td>2016-12-01 00:04:06</td>\n",
       "      <td>3418</td>\n",
       "      <td>Plaza St West &amp; Flatbush Ave</td>\n",
       "      <td>40.675021</td>\n",
       "      <td>-73.971115</td>\n",
       "      <td>3358</td>\n",
       "      <td>Garfield Pl &amp; 8 Ave</td>\n",
       "      <td>40.671198</td>\n",
       "      <td>-73.974841</td>\n",
       "      <td>27122</td>\n",
       "      <td>Subscriber</td>\n",
       "      <td>1955.0</td>\n",
       "      <td>1</td>\n",
       "    </tr>\n",
       "    <tr>\n",
       "      <th>2</th>\n",
       "      <td>399</td>\n",
       "      <td>2016-12-01 00:00:39</td>\n",
       "      <td>2016-12-01 00:07:19</td>\n",
       "      <td>297</td>\n",
       "      <td>E 15 St &amp; 3 Ave</td>\n",
       "      <td>40.734232</td>\n",
       "      <td>-73.986923</td>\n",
       "      <td>345</td>\n",
       "      <td>W 13 St &amp; 6 Ave</td>\n",
       "      <td>40.736494</td>\n",
       "      <td>-73.997044</td>\n",
       "      <td>19352</td>\n",
       "      <td>Subscriber</td>\n",
       "      <td>1985.0</td>\n",
       "      <td>1</td>\n",
       "    </tr>\n",
       "    <tr>\n",
       "      <th>3</th>\n",
       "      <td>254</td>\n",
       "      <td>2016-12-01 00:00:44</td>\n",
       "      <td>2016-12-01 00:04:59</td>\n",
       "      <td>405</td>\n",
       "      <td>Washington St &amp; Gansevoort St</td>\n",
       "      <td>40.739323</td>\n",
       "      <td>-74.008119</td>\n",
       "      <td>358</td>\n",
       "      <td>Christopher St &amp; Greenwich St</td>\n",
       "      <td>40.732916</td>\n",
       "      <td>-74.007114</td>\n",
       "      <td>20015</td>\n",
       "      <td>Subscriber</td>\n",
       "      <td>1982.0</td>\n",
       "      <td>1</td>\n",
       "    </tr>\n",
       "    <tr>\n",
       "      <th>4</th>\n",
       "      <td>1805</td>\n",
       "      <td>2016-12-01 00:00:54</td>\n",
       "      <td>2016-12-01 00:31:00</td>\n",
       "      <td>279</td>\n",
       "      <td>Peck Slip &amp; Front St</td>\n",
       "      <td>40.707873</td>\n",
       "      <td>-74.001670</td>\n",
       "      <td>279</td>\n",
       "      <td>Peck Slip &amp; Front St</td>\n",
       "      <td>40.707873</td>\n",
       "      <td>-74.001670</td>\n",
       "      <td>23148</td>\n",
       "      <td>Subscriber</td>\n",
       "      <td>1989.0</td>\n",
       "      <td>1</td>\n",
       "    </tr>\n",
       "    <tr>\n",
       "      <th>5</th>\n",
       "      <td>483</td>\n",
       "      <td>2016-12-01 00:01:13</td>\n",
       "      <td>2016-12-01 00:09:17</td>\n",
       "      <td>245</td>\n",
       "      <td>Myrtle Ave &amp; St Edwards St</td>\n",
       "      <td>40.693270</td>\n",
       "      <td>-73.977039</td>\n",
       "      <td>372</td>\n",
       "      <td>Franklin Ave &amp; Myrtle Ave</td>\n",
       "      <td>40.694528</td>\n",
       "      <td>-73.958089</td>\n",
       "      <td>16140</td>\n",
       "      <td>Subscriber</td>\n",
       "      <td>1986.0</td>\n",
       "      <td>1</td>\n",
       "    </tr>\n",
       "    <tr>\n",
       "      <th>6</th>\n",
       "      <td>1114</td>\n",
       "      <td>2016-12-01 00:01:37</td>\n",
       "      <td>2016-12-01 00:20:12</td>\n",
       "      <td>470</td>\n",
       "      <td>W 20 St &amp; 8 Ave</td>\n",
       "      <td>40.743453</td>\n",
       "      <td>-74.000040</td>\n",
       "      <td>453</td>\n",
       "      <td>W 22 St &amp; 8 Ave</td>\n",
       "      <td>40.744751</td>\n",
       "      <td>-73.999154</td>\n",
       "      <td>19997</td>\n",
       "      <td>Subscriber</td>\n",
       "      <td>1964.0</td>\n",
       "      <td>1</td>\n",
       "    </tr>\n",
       "    <tr>\n",
       "      <th>7</th>\n",
       "      <td>2680</td>\n",
       "      <td>2016-12-01 00:01:50</td>\n",
       "      <td>2016-12-01 00:46:30</td>\n",
       "      <td>3312</td>\n",
       "      <td>1 Ave &amp; E 94 St</td>\n",
       "      <td>40.781721</td>\n",
       "      <td>-73.945940</td>\n",
       "      <td>3325</td>\n",
       "      <td>E 95 St &amp; 3 Ave</td>\n",
       "      <td>40.784903</td>\n",
       "      <td>-73.950503</td>\n",
       "      <td>26105</td>\n",
       "      <td>Subscriber</td>\n",
       "      <td>NaN</td>\n",
       "      <td>0</td>\n",
       "    </tr>\n",
       "    <tr>\n",
       "      <th>8</th>\n",
       "      <td>1967</td>\n",
       "      <td>2016-12-01 00:01:52</td>\n",
       "      <td>2016-12-01 00:34:40</td>\n",
       "      <td>387</td>\n",
       "      <td>Centre St &amp; Chambers St</td>\n",
       "      <td>40.712733</td>\n",
       "      <td>-74.004607</td>\n",
       "      <td>387</td>\n",
       "      <td>Centre St &amp; Chambers St</td>\n",
       "      <td>40.712733</td>\n",
       "      <td>-74.004607</td>\n",
       "      <td>21348</td>\n",
       "      <td>Customer</td>\n",
       "      <td>NaN</td>\n",
       "      <td>0</td>\n",
       "    </tr>\n",
       "    <tr>\n",
       "      <th>9</th>\n",
       "      <td>356</td>\n",
       "      <td>2016-12-01 00:01:54</td>\n",
       "      <td>2016-12-01 00:07:50</td>\n",
       "      <td>496</td>\n",
       "      <td>E 16 St &amp; 5 Ave</td>\n",
       "      <td>40.737262</td>\n",
       "      <td>-73.992390</td>\n",
       "      <td>212</td>\n",
       "      <td>W 16 St &amp; The High Line</td>\n",
       "      <td>40.743349</td>\n",
       "      <td>-74.006818</td>\n",
       "      <td>22517</td>\n",
       "      <td>Subscriber</td>\n",
       "      <td>1954.0</td>\n",
       "      <td>1</td>\n",
       "    </tr>\n",
       "  </tbody>\n",
       "</table>\n",
       "</div>"
      ],
      "text/plain": [
       "   Trip Duration           Start Time            Stop Time  Start Station ID  \\\n",
       "0            528  2016-12-01 00:00:04  2016-12-01 00:08:52               499   \n",
       "1            218  2016-12-01 00:00:28  2016-12-01 00:04:06              3418   \n",
       "2            399  2016-12-01 00:00:39  2016-12-01 00:07:19               297   \n",
       "3            254  2016-12-01 00:00:44  2016-12-01 00:04:59               405   \n",
       "4           1805  2016-12-01 00:00:54  2016-12-01 00:31:00               279   \n",
       "5            483  2016-12-01 00:01:13  2016-12-01 00:09:17               245   \n",
       "6           1114  2016-12-01 00:01:37  2016-12-01 00:20:12               470   \n",
       "7           2680  2016-12-01 00:01:50  2016-12-01 00:46:30              3312   \n",
       "8           1967  2016-12-01 00:01:52  2016-12-01 00:34:40               387   \n",
       "9            356  2016-12-01 00:01:54  2016-12-01 00:07:50               496   \n",
       "\n",
       "              Start Station Name  Start Station Latitude  \\\n",
       "0             Broadway & W 60 St               40.769155   \n",
       "1   Plaza St West & Flatbush Ave               40.675021   \n",
       "2                E 15 St & 3 Ave               40.734232   \n",
       "3  Washington St & Gansevoort St               40.739323   \n",
       "4           Peck Slip & Front St               40.707873   \n",
       "5     Myrtle Ave & St Edwards St               40.693270   \n",
       "6                W 20 St & 8 Ave               40.743453   \n",
       "7                1 Ave & E 94 St               40.781721   \n",
       "8        Centre St & Chambers St               40.712733   \n",
       "9                E 16 St & 5 Ave               40.737262   \n",
       "\n",
       "   Start Station Longitude  End Station ID               End Station Name  \\\n",
       "0               -73.981918             228                E 48 St & 3 Ave   \n",
       "1               -73.971115            3358            Garfield Pl & 8 Ave   \n",
       "2               -73.986923             345                W 13 St & 6 Ave   \n",
       "3               -74.008119             358  Christopher St & Greenwich St   \n",
       "4               -74.001670             279           Peck Slip & Front St   \n",
       "5               -73.977039             372      Franklin Ave & Myrtle Ave   \n",
       "6               -74.000040             453                W 22 St & 8 Ave   \n",
       "7               -73.945940            3325                E 95 St & 3 Ave   \n",
       "8               -74.004607             387        Centre St & Chambers St   \n",
       "9               -73.992390             212        W 16 St & The High Line   \n",
       "\n",
       "   End Station Latitude  End Station Longitude  Bike ID   User Type  \\\n",
       "0             40.754601             -73.971879    26931  Subscriber   \n",
       "1             40.671198             -73.974841    27122  Subscriber   \n",
       "2             40.736494             -73.997044    19352  Subscriber   \n",
       "3             40.732916             -74.007114    20015  Subscriber   \n",
       "4             40.707873             -74.001670    23148  Subscriber   \n",
       "5             40.694528             -73.958089    16140  Subscriber   \n",
       "6             40.744751             -73.999154    19997  Subscriber   \n",
       "7             40.784903             -73.950503    26105  Subscriber   \n",
       "8             40.712733             -74.004607    21348    Customer   \n",
       "9             40.743349             -74.006818    22517  Subscriber   \n",
       "\n",
       "   Birth Year  Gender  \n",
       "0      1964.0       1  \n",
       "1      1955.0       1  \n",
       "2      1985.0       1  \n",
       "3      1982.0       1  \n",
       "4      1989.0       1  \n",
       "5      1986.0       1  \n",
       "6      1964.0       1  \n",
       "7         NaN       0  \n",
       "8         NaN       0  \n",
       "9      1954.0       1  "
      ]
     },
     "execution_count": 4,
     "metadata": {},
     "output_type": "execute_result"
    }
   ],
   "source": [
    "citibike_df = pd.read_csv(puidata + \"/\" + datestring + '-citibike-tripdata.csv')\n",
    "citibike_df.head(10)"
   ]
  },
  {
   "cell_type": "code",
   "execution_count": 5,
   "metadata": {},
   "outputs": [
    {
     "data": {
      "text/plain": [
       "812192"
      ]
     },
     "execution_count": 5,
     "metadata": {},
     "output_type": "execute_result"
    }
   ],
   "source": [
    "len(citibike_df)"
   ]
  },
  {
   "cell_type": "markdown",
   "metadata": {},
   "source": [
    "### Clean the data and keep only what is needed"
   ]
  },
  {
   "cell_type": "code",
   "execution_count": 6,
   "metadata": {},
   "outputs": [],
   "source": [
    "#Only User Type and Trip Duration are needed\n",
    "citibike_df = citibike_df.loc[:,['User Type','Trip Duration']]"
   ]
  },
  {
   "cell_type": "code",
   "execution_count": 7,
   "metadata": {},
   "outputs": [
    {
     "data": {
      "text/plain": [
       "User Type        5388\n",
       "Trip Duration       0\n",
       "dtype: int64"
      ]
     },
     "execution_count": 7,
     "metadata": {},
     "output_type": "execute_result"
    }
   ],
   "source": [
    "#Check if we have nulls \n",
    "citibike_df.isnull().sum()"
   ]
  },
  {
   "cell_type": "code",
   "execution_count": 8,
   "metadata": {},
   "outputs": [
    {
     "data": {
      "text/plain": [
       "Subscriber    774278\n",
       "Customer       32526\n",
       "Name: User Type, dtype: int64"
      ]
     },
     "execution_count": 8,
     "metadata": {},
     "output_type": "execute_result"
    }
   ],
   "source": [
    "#Lets look at user types\n",
    "citibike_df['User Type'].value_counts()"
   ]
  },
  {
   "cell_type": "code",
   "execution_count": 9,
   "metadata": {},
   "outputs": [],
   "source": [
    "#Remove null user types\n",
    "citibike_df = citibike_df.loc[citibike_df['User Type'].isnull() == False]"
   ]
  },
  {
   "cell_type": "code",
   "execution_count": 10,
   "metadata": {},
   "outputs": [],
   "source": [
    "#We assume Subscribers are New Yorkers and Customers are Tourists.\n",
    "#Subscribers have a 1-year membership so they are definitely New Yorkers,\n",
    "#and Customers have 24-hour o 3-day passes, so most of them should be Tourists (though some New Yorkers are there also there)\n",
    "citibike_df['User Type'] = citibike_df['User Type'].map({'Subscriber':'New Yorker', 'Customer':'Tourist'})"
   ]
  },
  {
   "cell_type": "code",
   "execution_count": 11,
   "metadata": {},
   "outputs": [
    {
     "data": {
      "text/html": [
       "<div>\n",
       "<table border=\"1\" class=\"dataframe\">\n",
       "  <thead>\n",
       "    <tr style=\"text-align: right;\">\n",
       "      <th></th>\n",
       "      <th>User Type</th>\n",
       "      <th>Trip Duration</th>\n",
       "    </tr>\n",
       "  </thead>\n",
       "  <tbody>\n",
       "    <tr>\n",
       "      <th>0</th>\n",
       "      <td>New Yorker</td>\n",
       "      <td>528</td>\n",
       "    </tr>\n",
       "    <tr>\n",
       "      <th>1</th>\n",
       "      <td>New Yorker</td>\n",
       "      <td>218</td>\n",
       "    </tr>\n",
       "    <tr>\n",
       "      <th>2</th>\n",
       "      <td>New Yorker</td>\n",
       "      <td>399</td>\n",
       "    </tr>\n",
       "    <tr>\n",
       "      <th>3</th>\n",
       "      <td>New Yorker</td>\n",
       "      <td>254</td>\n",
       "    </tr>\n",
       "    <tr>\n",
       "      <th>4</th>\n",
       "      <td>New Yorker</td>\n",
       "      <td>1805</td>\n",
       "    </tr>\n",
       "    <tr>\n",
       "      <th>5</th>\n",
       "      <td>New Yorker</td>\n",
       "      <td>483</td>\n",
       "    </tr>\n",
       "    <tr>\n",
       "      <th>6</th>\n",
       "      <td>New Yorker</td>\n",
       "      <td>1114</td>\n",
       "    </tr>\n",
       "    <tr>\n",
       "      <th>7</th>\n",
       "      <td>New Yorker</td>\n",
       "      <td>2680</td>\n",
       "    </tr>\n",
       "    <tr>\n",
       "      <th>8</th>\n",
       "      <td>Tourist</td>\n",
       "      <td>1967</td>\n",
       "    </tr>\n",
       "    <tr>\n",
       "      <th>9</th>\n",
       "      <td>New Yorker</td>\n",
       "      <td>356</td>\n",
       "    </tr>\n",
       "  </tbody>\n",
       "</table>\n",
       "</div>"
      ],
      "text/plain": [
       "    User Type  Trip Duration\n",
       "0  New Yorker            528\n",
       "1  New Yorker            218\n",
       "2  New Yorker            399\n",
       "3  New Yorker            254\n",
       "4  New Yorker           1805\n",
       "5  New Yorker            483\n",
       "6  New Yorker           1114\n",
       "7  New Yorker           2680\n",
       "8     Tourist           1967\n",
       "9  New Yorker            356"
      ]
     },
     "execution_count": 11,
     "metadata": {},
     "output_type": "execute_result"
    }
   ],
   "source": [
    "#show first rows\n",
    "citibike_df.head(10)"
   ]
  },
  {
   "cell_type": "code",
   "execution_count": 12,
   "metadata": {},
   "outputs": [
    {
     "data": {
      "text/plain": [
       "806804"
      ]
     },
     "execution_count": 12,
     "metadata": {},
     "output_type": "execute_result"
    }
   ],
   "source": [
    "len(citibike_df)"
   ]
  },
  {
   "cell_type": "code",
   "execution_count": 13,
   "metadata": {},
   "outputs": [
    {
     "data": {
      "text/plain": [
       "New Yorker    774278\n",
       "Tourist        32526\n",
       "Name: User Type, dtype: int64"
      ]
     },
     "execution_count": 13,
     "metadata": {},
     "output_type": "execute_result"
    }
   ],
   "source": [
    "#Lets look at user types\n",
    "citibike_df['User Type'].value_counts()"
   ]
  },
  {
   "cell_type": "code",
   "execution_count": 14,
   "metadata": {},
   "outputs": [],
   "source": [
    "#Lets look at trip durations\n",
    "citibike_df['Trip Duration'] = citibike_df['Trip Duration']/60"
   ]
  },
  {
   "cell_type": "code",
   "execution_count": 15,
   "metadata": {},
   "outputs": [
    {
     "data": {
      "text/html": [
       "<div>\n",
       "<table border=\"1\" class=\"dataframe\">\n",
       "  <thead>\n",
       "    <tr style=\"text-align: right;\">\n",
       "      <th></th>\n",
       "      <th>Trip Duration</th>\n",
       "    </tr>\n",
       "  </thead>\n",
       "  <tbody>\n",
       "    <tr>\n",
       "      <th>count</th>\n",
       "      <td>806804.000000</td>\n",
       "    </tr>\n",
       "    <tr>\n",
       "      <th>mean</th>\n",
       "      <td>12.859249</td>\n",
       "    </tr>\n",
       "    <tr>\n",
       "      <th>std</th>\n",
       "      <td>125.998952</td>\n",
       "    </tr>\n",
       "    <tr>\n",
       "      <th>min</th>\n",
       "      <td>1.016667</td>\n",
       "    </tr>\n",
       "    <tr>\n",
       "      <th>25%</th>\n",
       "      <td>5.550000</td>\n",
       "    </tr>\n",
       "    <tr>\n",
       "      <th>50%</th>\n",
       "      <td>8.850000</td>\n",
       "    </tr>\n",
       "    <tr>\n",
       "      <th>75%</th>\n",
       "      <td>14.500000</td>\n",
       "    </tr>\n",
       "    <tr>\n",
       "      <th>max</th>\n",
       "      <td>57885.050000</td>\n",
       "    </tr>\n",
       "  </tbody>\n",
       "</table>\n",
       "</div>"
      ],
      "text/plain": [
       "       Trip Duration\n",
       "count  806804.000000\n",
       "mean       12.859249\n",
       "std       125.998952\n",
       "min         1.016667\n",
       "25%         5.550000\n",
       "50%         8.850000\n",
       "75%        14.500000\n",
       "max     57885.050000"
      ]
     },
     "execution_count": 15,
     "metadata": {},
     "output_type": "execute_result"
    }
   ],
   "source": [
    "#describe data\n",
    "citibike_df.describe()"
   ]
  },
  {
   "cell_type": "code",
   "execution_count": 16,
   "metadata": {},
   "outputs": [
    {
     "data": {
      "text/html": [
       "<div>\n",
       "<table border=\"1\" class=\"dataframe\">\n",
       "  <thead>\n",
       "    <tr>\n",
       "      <th></th>\n",
       "      <th colspan=\"4\" halign=\"left\">Trip Duration</th>\n",
       "    </tr>\n",
       "    <tr>\n",
       "      <th></th>\n",
       "      <th>count</th>\n",
       "      <th>mean</th>\n",
       "      <th>min</th>\n",
       "      <th>max</th>\n",
       "    </tr>\n",
       "    <tr>\n",
       "      <th>User Type</th>\n",
       "      <th></th>\n",
       "      <th></th>\n",
       "      <th></th>\n",
       "      <th></th>\n",
       "    </tr>\n",
       "  </thead>\n",
       "  <tbody>\n",
       "    <tr>\n",
       "      <th>New Yorker</th>\n",
       "      <td>774278</td>\n",
       "      <td>11.882056</td>\n",
       "      <td>1.016667</td>\n",
       "      <td>57885.05</td>\n",
       "    </tr>\n",
       "    <tr>\n",
       "      <th>Tourist</th>\n",
       "      <td>32526</td>\n",
       "      <td>36.121242</td>\n",
       "      <td>1.016667</td>\n",
       "      <td>37836.15</td>\n",
       "    </tr>\n",
       "  </tbody>\n",
       "</table>\n",
       "</div>"
      ],
      "text/plain": [
       "           Trip Duration                               \n",
       "                   count       mean       min       max\n",
       "User Type                                              \n",
       "New Yorker        774278  11.882056  1.016667  57885.05\n",
       "Tourist            32526  36.121242  1.016667  37836.15"
      ]
     },
     "execution_count": 16,
     "metadata": {},
     "output_type": "execute_result"
    }
   ],
   "source": [
    "citibike_df.groupby('User Type').agg(['count','mean','min','max'])"
   ]
  },
  {
   "cell_type": "markdown",
   "metadata": {},
   "source": [
    "### Plot the data"
   ]
  },
  {
   "cell_type": "code",
   "execution_count": 17,
   "metadata": {},
   "outputs": [
    {
     "name": "stderr",
     "output_type": "stream",
     "text": [
      "/opt/conda/envs/PUI2016_Python3/lib/python3.5/site-packages/matplotlib/font_manager.py:1316: UserWarning: findfont: Font family ['sans-serif'] not found. Falling back to DejaVu Sans\n",
      "  (prop.get_family(), self.defaultFamily[fontext]))\n"
     ]
    },
    {
     "data": {
      "image/png": "[encoded data removed]",
      "text/plain": [
       "<matplotlib.figure.Figure at 0x7f9a68ead3c8>"
      ]
     },
     "metadata": {},
     "output_type": "display_data"
    }
   ],
   "source": [
    "ax = plt.figure(figsize=(12,7)).add_subplot(111)\n",
    "\n",
    "ax.set_ylabel('Count', fontsize=18)\n",
    "ax.set_xlabel('Trip duration in minutes', fontsize=18)\n",
    "ax.set_title('Figure 1: Distribution of overall trip duration', fontsize=18)\n",
    "\n",
    "ax.hist(citibike_df['Trip Duration'], range=(0, 60), bins=100, density=False, alpha=0.5)\n",
    "\n",
    "\n",
    "plt.show()"
   ]
  },
  {
   "cell_type": "code",
   "execution_count": 18,
   "metadata": {},
   "outputs": [
    {
     "name": "stderr",
     "output_type": "stream",
     "text": [
      "/opt/conda/envs/PUI2016_Python3/lib/python3.5/site-packages/matplotlib/font_manager.py:1316: UserWarning: findfont: Font family ['sans-serif'] not found. Falling back to DejaVu Sans\n",
      "  (prop.get_family(), self.defaultFamily[fontext]))\n"
     ]
    },
    {
     "data": {
      "image/png": "[encoded data removed]",
      "text/plain": [
       "<matplotlib.figure.Figure at 0x7f9a68ae5358>"
      ]
     },
     "metadata": {},
     "output_type": "display_data"
    }
   ],
   "source": [
    "ax = plt.figure(figsize=(12,7)).add_subplot(111)\n",
    "\n",
    "ax.set_ylabel('Density', fontsize=18)\n",
    "ax.set_xlabel('Trip duration in minutes', fontsize=18)\n",
    "ax.set_title('Figure 2: Trip duration comparison: New Yorkers vs Tourists', fontsize=18)\n",
    "\n",
    "ax.hist(citibike_df.loc[citibike_df['User Type'] == 'New Yorker']['Trip Duration'], range=(0, 60), bins=100, density=True, alpha=0.5, label='New Yorker')\n",
    "ax.hist(citibike_df.loc[citibike_df['User Type'] == 'Tourist']['Trip Duration'], range=(0, 60), bins=100, density=True, alpha=0.5, label='Tourist')\n",
    "\n",
    "ax.legend()\n",
    "\n",
    "plt.show()"
   ]
  },
  {
   "cell_type": "markdown",
   "metadata": {},
   "source": [
    "### Hypothesis testing"
   ]
  },
  {
   "cell_type": "code",
   "execution_count": 19,
   "metadata": {},
   "outputs": [],
   "source": [
    "def evalNullHypothesis(p, statistic, test, hypothesis=None,alpha=0.05):\n",
    "    if hypothesis:\n",
    "        print (\"The Null Hypothesis that {}\".format(hypothesis))\n",
    "    else:\n",
    "        print (\"The Null Hypothesis\")\n",
    "    if p < alpha :\n",
    "        print (\"can be rejected at alpha = {}\".format(alpha))\n",
    "    else: \n",
    "        print (\"cannot be rejected (p<0.05)\")\n",
    "    print (\"with a {} statistics of {:.3f} and a p-value of {:}\".format(test, statistic, p))"
   ]
  },
  {
   "cell_type": "code",
   "execution_count": 20,
   "metadata": {},
   "outputs": [],
   "source": [
    "(statistic, p) = sms.stats.weightstats.ztest(citibike_df.loc[citibike_df['User Type'] == 'Tourist']['Trip Duration'],\n",
    "                                                 citibike_df.loc[citibike_df['User Type'] == 'New Yorker']['Trip Duration'],\n",
    "                                                 alternative='larger')"
   ]
  },
  {
   "cell_type": "code",
   "execution_count": 21,
   "metadata": {},
   "outputs": [
    {
     "name": "stdout",
     "output_type": "stream",
     "text": [
      "The Null Hypothesis that Tourists trips on CitiBike are on average shorter or equal than New Yorkers trips\n",
      "can be rejected at alpha = 0.05\n",
      "with a Z-test statistics of 34.013 and a p-value of 7.217316536376525e-254\n"
     ]
    }
   ],
   "source": [
    "evalNullHypothesis(p, statistic, 'Z-test',\n",
    "                   hypothesis='Tourists trips on CitiBike are on average shorter or equal than New Yorkers trips')"
   ]
  }
 ],
 "metadata": {
  "kernelspec": {
   "display_name": "PUI2016_Python3",
   "language": "python",
   "name": "pui2016_python3"
  },
  "language_info": {
   "codemirror_mode": {
    "name": "ipython",
    "version": 3
   },
   "file_extension": ".py",
   "mimetype": "text/x-python",
   "name": "python",
   "nbconvert_exporter": "python",
   "pygments_lexer": "ipython3",
   "version": "3.5.4"
  }
 },
 "nbformat": 4,
 "nbformat_minor": 2
}
